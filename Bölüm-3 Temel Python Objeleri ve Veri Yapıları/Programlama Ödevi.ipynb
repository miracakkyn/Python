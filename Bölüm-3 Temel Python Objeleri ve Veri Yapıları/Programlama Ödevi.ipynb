{
 "cells": [
  {
   "cell_type": "code",
   "execution_count": 1,
   "id": "9cb083c0",
   "metadata": {},
   "outputs": [
    {
     "name": "stdout",
     "output_type": "stream",
     "text": [
      "1.sayıyı giriniz:2\n",
      "2.sayıyı giriniz:3\n",
      "3.sayıyı giriniz:5\n",
      "Sonuç:30\n"
     ]
    }
   ],
   "source": [
    "#Kullanıcıdan aldığınız 3 tane sayıyı çarparak ekrana yazdırın. Ekrana yazdırma işlemini *format* metoduyla yapmaya çalışın.\n",
    "\n",
    "a=int(input(\"1.sayıyı giriniz:\"))\n",
    "b=int(input(\"2.sayıyı giriniz:\"))\n",
    "c=int(input(\"3.sayıyı giriniz:\"))\n",
    "print(\"Sonuç:{}\".format(a*b*c))"
   ]
  },
  {
   "cell_type": "code",
   "execution_count": 4,
   "id": "826b5f36",
   "metadata": {},
   "outputs": [
    {
     "name": "stdout",
     "output_type": "stream",
     "text": [
      "Boyunuzu metre cinsinden giriniz:1.82\n",
      "Kilonuzu giriniz:72\n",
      "Beden kitle indeksiniz:21.736505252988767\n"
     ]
    }
   ],
   "source": [
    "#Kullanıcıdan aldığınız boy ve kilo değerlerine göre kullanıcının beden kitle indeksini bulun.\n",
    "boy=float(input(\"Boyunuzu metre cinsinden giriniz:\"))\n",
    "kilo=int(input(\"Kilonuzu giriniz:\"))\n",
    "bki=kilo/(boy*boy)\n",
    "print(\"Beden kitle indeksiniz:{}\".format(bki))"
   ]
  },
  {
   "cell_type": "code",
   "execution_count": 6,
   "id": "27fa0c20",
   "metadata": {},
   "outputs": [
    {
     "name": "stdout",
     "output_type": "stream",
     "text": [
      "Kilometre başı:1.5\n",
      "Toplam yol:1000\n",
      "Toplam ücret:1500.0\n"
     ]
    }
   ],
   "source": [
    "#Bir aracın kilometrede ne kadar yaktığı ve kaç kilometre yol yaptığı bilgilerini alın ve sürücünü toplam ne kadar ödemesini gerektiğini hesaplayın.\n",
    "km=float(input(\"Kilometre başı:\"))\n",
    "tKm=int(input(\"Toplam yol:\"))\n",
    "ucret=km*tKm\n",
    "print(\"Toplam ücret:{}\".format(ucret))"
   ]
  },
  {
   "cell_type": "code",
   "execution_count": 10,
   "id": "65af6d1d",
   "metadata": {},
   "outputs": [
    {
     "name": "stdout",
     "output_type": "stream",
     "text": [
      "İsim giriniz:Miraç\n",
      "Soyadı giriniz:Akkoyun\n",
      "Numara giriniz:123456\n",
      "Miraç\n",
      "Akkoyun\n",
      "123456\n"
     ]
    }
   ],
   "source": [
    "#Kullanıcıdan ad,soyad ve numara bilgisini alarak bunları alt alta ekrana yazdırın.\n",
    "ad=input(\"İsim giriniz:\")\n",
    "soyadı=input(\"Soyadı giriniz:\")\n",
    "numara=input(\"Numara giriniz:\")\n",
    "print(\"{}\\n{}\\n{}\".format(ad,soyadı,numara))\n"
   ]
  },
  {
   "cell_type": "code",
   "execution_count": 11,
   "id": "933b271e",
   "metadata": {},
   "outputs": [
    {
     "name": "stdout",
     "output_type": "stream",
     "text": [
      "5\n",
      "10\n",
      "5 10\n",
      "10 5\n"
     ]
    }
   ],
   "source": [
    "#Kullanıcıdan iki tane sayı isteyin ve bu sayıların değerlerini birbirleriyle değiştirin.\n",
    "f=int(input())\n",
    "g=int(input())\n",
    "print(f,g)\n",
    "f,g=g,f\n",
    "print(f,g)"
   ]
  },
  {
   "cell_type": "code",
   "execution_count": 15,
   "id": "3ceaddc1",
   "metadata": {},
   "outputs": [
    {
     "name": "stdout",
     "output_type": "stream",
     "text": [
      "Dik kenar uzunluğu:3\n",
      "Yatay kenar uzunluğu:4\n",
      "5\n"
     ]
    }
   ],
   "source": [
    "#Kullanıcıdan bir dik üçgenin dik olan iki kenarını(a,b) alın ve hipotenüs uzunluğunu bulmaya çalışın.\n",
    "\n",
    "dik=int(input(\"Dik kenar uzunluğu:\"))\n",
    "yatay=int(input(\"Yatay kenar uzunluğu:\"))\n",
    "hipo=((dik**2)+(yatay**2))**0.5\n",
    "print(int(hipo))"
   ]
  },
  {
   "cell_type": "code",
   "execution_count": null,
   "id": "65e520a7",
   "metadata": {},
   "outputs": [],
   "source": []
  }
 ],
 "metadata": {
  "kernelspec": {
   "display_name": "Python 3 (ipykernel)",
   "language": "python",
   "name": "python3"
  },
  "language_info": {
   "codemirror_mode": {
    "name": "ipython",
    "version": 3
   },
   "file_extension": ".py",
   "mimetype": "text/x-python",
   "name": "python",
   "nbconvert_exporter": "python",
   "pygments_lexer": "ipython3",
   "version": "3.10.9"
  }
 },
 "nbformat": 4,
 "nbformat_minor": 5
}
