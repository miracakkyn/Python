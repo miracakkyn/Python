{
 "cells": [
  {
   "cell_type": "code",
   "execution_count": 2,
   "id": "86184077",
   "metadata": {},
   "outputs": [
    {
     "name": "stdout",
     "output_type": "stream",
     "text": [
      "6\n",
      "16\n"
     ]
    }
   ],
   "source": [
    "a=4\n",
    "a=a+2\n",
    "print(a)\n",
    "a+=10\n",
    "print(a)"
   ]
  },
  {
   "cell_type": "code",
   "execution_count": 5,
   "id": "fc023430",
   "metadata": {},
   "outputs": [
    {
     "name": "stdout",
     "output_type": "stream",
     "text": [
      "21\n",
      "16\n",
      "1.3125\n"
     ]
    }
   ],
   "source": [
    "K=31\n",
    "K-=10\n",
    "print(K)\n",
    "K/=a\n",
    "print(a)\n",
    "print(K)"
   ]
  },
  {
   "cell_type": "code",
   "execution_count": 9,
   "id": "42c014c0",
   "metadata": {},
   "outputs": [
    {
     "name": "stdout",
     "output_type": "stream",
     "text": [
      "8.0\n",
      "8\n",
      "2.4007692307692308\n",
      "2.0\n"
     ]
    }
   ],
   "source": [
    "#Tam Sayı Operatörü\n",
    "print(a/2)\n",
    "#eğer tam sayı bölmesi yaaprsak tam sayı çıkar\n",
    "print(a//2)\n",
    "print(31.21/13)\n",
    "print(31.21//13)"
   ]
  },
  {
   "cell_type": "code",
   "execution_count": 12,
   "id": "f8bf885d",
   "metadata": {},
   "outputs": [
    {
     "name": "stdout",
     "output_type": "stream",
     "text": [
      "1\n",
      "0\n"
     ]
    }
   ],
   "source": [
    "#Kalanı bulma bir sayının başka bir sayıya bölümünden kalanı bulmayay ayrıyor\n",
    "print(21%4)\n",
    "print(15%3)"
   ]
  },
  {
   "cell_type": "code",
   "execution_count": 17,
   "id": "e0ff1a80",
   "metadata": {},
   "outputs": [
    {
     "name": "stdout",
     "output_type": "stream",
     "text": [
      "9\n",
      "2.0\n",
      "2.0\n"
     ]
    }
   ],
   "source": [
    "#üs bulma\n",
    "print(3**2)\n",
    "print(4**0.5)\n",
    "#Karekökü bulmamızı da sağlar\n",
    "\n",
    "print(8**(1/3))\n",
    "#Küp kökü bulmamızı da sağlar"
   ]
  },
  {
   "cell_type": "code",
   "execution_count": null,
   "id": "e9d21736",
   "metadata": {},
   "outputs": [],
   "source": []
  }
 ],
 "metadata": {
  "kernelspec": {
   "display_name": "Python 3 (ipykernel)",
   "language": "python",
   "name": "python3"
  },
  "language_info": {
   "codemirror_mode": {
    "name": "ipython",
    "version": 3
   },
   "file_extension": ".py",
   "mimetype": "text/x-python",
   "name": "python",
   "nbconvert_exporter": "python",
   "pygments_lexer": "ipython3",
   "version": "3.10.9"
  }
 },
 "nbformat": 4,
 "nbformat_minor": 5
}
