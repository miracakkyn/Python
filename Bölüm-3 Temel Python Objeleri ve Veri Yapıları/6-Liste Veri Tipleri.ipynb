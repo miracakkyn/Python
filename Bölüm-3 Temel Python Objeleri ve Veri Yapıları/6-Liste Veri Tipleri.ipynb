{
 "cells": [
  {
   "cell_type": "code",
   "execution_count": 4,
   "id": "d5acb5b0",
   "metadata": {},
   "outputs": [
    {
     "name": "stdout",
     "output_type": "stream",
     "text": [
      "[1]\n"
     ]
    }
   ],
   "source": [
    "liste=[]\n",
    "liste.append(1)\n",
    "print(liste)\n",
    "#önce boş liste tanımladık sonra listeye eleman ekledik"
   ]
  },
  {
   "cell_type": "code",
   "execution_count": 5,
   "id": "de6d1936",
   "metadata": {},
   "outputs": [
    {
     "name": "stdout",
     "output_type": "stream",
     "text": [
      "[]\n"
     ]
    }
   ],
   "source": [
    "liste2=list()\n",
    "print(liste2)\n",
    "#bu şekilde de boş liste oluşturabiliriz"
   ]
  },
  {
   "cell_type": "code",
   "execution_count": 6,
   "id": "734c01e2",
   "metadata": {},
   "outputs": [
    {
     "name": "stdout",
     "output_type": "stream",
     "text": [
      "8\n"
     ]
    }
   ],
   "source": [
    "liste3=[1,2,3,4,5,6,7,8]\n",
    "print(len(liste3))"
   ]
  },
  {
   "cell_type": "code",
   "execution_count": 10,
   "id": "f4ffc75b",
   "metadata": {},
   "outputs": [
    {
     "name": "stdout",
     "output_type": "stream",
     "text": [
      "['M', 'i', 'r', 'a', 'ç']\n",
      "a\n",
      "['ç', 'a', 'r', 'i', 'M']\n"
     ]
    }
   ],
   "source": [
    "liste4=list(\"Miraç\")\n",
    "print(liste4)\n",
    "print(liste4[3])\n",
    "print(liste4[::-1])"
   ]
  },
  {
   "cell_type": "code",
   "execution_count": 17,
   "id": "ff332c97",
   "metadata": {},
   "outputs": [
    {
     "name": "stdout",
     "output_type": "stream",
     "text": [
      "[631]\n",
      "[631, 1]\n",
      "[631]\n",
      "[1, 2, 3, 4, 5]\n",
      "[1, 2, 3, 5]\n"
     ]
    }
   ],
   "source": [
    "liste5=[]\n",
    "liste5.append(631)\n",
    "#append listeye eleman ekler\n",
    "print(liste5)\n",
    "liste5.append(1)\n",
    "print(liste5)\n",
    "liste5.pop()\n",
    "#pop() metodu listedeki son elemanı siler\n",
    "print(liste5)\n",
    "liste5=[1,2,3,4,5]\n",
    "print(liste5)\n",
    "liste5.pop(3)\n",
    "print(liste5)\n",
    "#eğer pop da sıra belirlersek de hangi elemanı silmemizi istersek onu siler"
   ]
  },
  {
   "cell_type": "code",
   "execution_count": 19,
   "id": "6f984786",
   "metadata": {},
   "outputs": [
    {
     "name": "stdout",
     "output_type": "stream",
     "text": [
      "[1, 1, 4, 4, 5, 6, 15, 24, 31, 95, 858]\n"
     ]
    }
   ],
   "source": [
    "liste6=[1,31,4,15,1,24,5,6,858,95,4]\n",
    "liste6.sort()\n",
    "print(liste6)\n",
    "#sort metodu ile liste küçükten büyüğe sıralanır"
   ]
  },
  {
   "cell_type": "code",
   "execution_count": 21,
   "id": "c18a2977",
   "metadata": {},
   "outputs": [
    {
     "name": "stdout",
     "output_type": "stream",
     "text": [
      "[3, 4]\n",
      "3\n"
     ]
    }
   ],
   "source": [
    "liste8=[[1,2],[3,4],[5,6]]\n",
    "print(liste8[1])\n",
    "print(liste8[1][0])\n",
    "#indeks ile iç içe listelere erişiriz"
   ]
  },
  {
   "cell_type": "code",
   "execution_count": 24,
   "id": "763c06ec",
   "metadata": {},
   "outputs": [
    {
     "name": "stdout",
     "output_type": "stream",
     "text": [
      "[1, 2, 3, 4, 'M', 'i', 'r', 'a', 'ç']\n",
      "[1, 2, 3, 4, 'M', 'i', 'r', 'a', 'ç', 'Miraç']\n"
     ]
    }
   ],
   "source": [
    "liste9=[1,2,3,4]\n",
    "liste9+=\"Miraç\"\n",
    "print(liste9)\n",
    "liste9+=[\"Miraç\"]\n",
    "\n",
    "print(liste9)"
   ]
  },
  {
   "cell_type": "code",
   "execution_count": null,
   "id": "96a8934e",
   "metadata": {},
   "outputs": [],
   "source": []
  }
 ],
 "metadata": {
  "kernelspec": {
   "display_name": "Python 3 (ipykernel)",
   "language": "python",
   "name": "python3"
  },
  "language_info": {
   "codemirror_mode": {
    "name": "ipython",
    "version": 3
   },
   "file_extension": ".py",
   "mimetype": "text/x-python",
   "name": "python",
   "nbconvert_exporter": "python",
   "pygments_lexer": "ipython3",
   "version": "3.10.9"
  }
 },
 "nbformat": 4,
 "nbformat_minor": 5
}
