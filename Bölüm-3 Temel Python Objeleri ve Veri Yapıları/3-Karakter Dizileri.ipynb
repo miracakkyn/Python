{
 "cells": [
  {
   "cell_type": "code",
   "execution_count": 1,
   "id": "360bdc02",
   "metadata": {},
   "outputs": [
    {
     "name": "stdout",
     "output_type": "stream",
     "text": [
      "Miraç\n"
     ]
    }
   ],
   "source": [
    "kullanici=\"Miraç\"\n",
    "print(kullanici)"
   ]
  },
  {
   "cell_type": "code",
   "execution_count": 4,
   "id": "9ae631fb",
   "metadata": {},
   "outputs": [
    {
     "ename": "SyntaxError",
     "evalue": "invalid syntax. Perhaps you forgot a comma? (3038299983.py, line 1)",
     "output_type": "error",
     "traceback": [
      "\u001b[1;36m  Cell \u001b[1;32mIn[4], line 1\u001b[1;36m\u001b[0m\n\u001b[1;33m    print(\"Miraç'ın bugün \"Programlama-2\" sınavı var\")\u001b[0m\n\u001b[1;37m          ^\u001b[0m\n\u001b[1;31mSyntaxError\u001b[0m\u001b[1;31m:\u001b[0m invalid syntax. Perhaps you forgot a comma?\n"
     ]
    }
   ],
   "source": [
    "print(\"Miraç'ın bugün \"Programlama-2\" sınavı var\")\n"
   ]
  },
  {
   "cell_type": "code",
   "execution_count": 3,
   "id": "4cd6fe05",
   "metadata": {},
   "outputs": [
    {
     "name": "stdout",
     "output_type": "stream",
     "text": [
      "Miraç'ın bugün \"Programlama-2\" sınavı var\n"
     ]
    }
   ],
   "source": [
    "print(\"Miraç'ın bugün \\\"Programlama-2\\\" sınavı var\")\n",
    "#Yukarıda normalde çift tırnak bitiriyor ama ters slash kullanırsak bu değil anlamı katıyor ve print çalışır"
   ]
  },
  {
   "cell_type": "code",
   "execution_count": 7,
   "id": "4a466106",
   "metadata": {},
   "outputs": [
    {
     "name": "stdout",
     "output_type": "stream",
     "text": [
      "M\n",
      "u\n",
      "r\n",
      "a\n",
      "t\n",
      "t\n",
      "a\n"
     ]
    }
   ],
   "source": [
    "#String indeksleme\n",
    "#Stringler baştan 0 ile başlar , tersten ise -1 ile başlar\n",
    "k=\"Murat\"\n",
    "print(k[0])\n",
    "print(k[1])\n",
    "print(k[2])\n",
    "print(k[3])\n",
    "print(k[4])\n",
    "print(k[-1])\n",
    "print(k[-2])"
   ]
  },
  {
   "cell_type": "code",
   "execution_count": 37,
   "id": "99834bfc",
   "metadata": {},
   "outputs": [
    {
     "name": "stdout",
     "output_type": "stream",
     "text": [
      "ura\n",
      "at ö \n",
      "ltaİöüÜiest\n",
      "isetisrevinÜ ünönİ aytalaM\n"
     ]
    }
   ],
   "source": [
    "#String parçalama\n",
    "#[başlama indeksi:bitiş indeksi:atlama değeri]\n",
    "print(k[1:4])\n",
    "#1.indeksten başla 4. indekse kadar git ama 4 ü dahil etme demek\n",
    "\n",
    "m=\"Malatya İnönü Üniversitesi\"\n",
    "print(m[1:15:3])\n",
    "print(m[2:-2:2])\n",
    "#2.indeksten başla -2. indekse kadar 2 atlayarak git\n",
    "\n",
    "print(m[::-1])\n",
    "#Tersten yazdırma"
   ]
  },
  {
   "cell_type": "code",
   "execution_count": 43,
   "id": "25c3ede5",
   "metadata": {},
   "outputs": [
    {
     "name": "stdout",
     "output_type": "stream",
     "text": [
      "7\n"
     ]
    }
   ],
   "source": [
    "#String Özellikleri\n",
    "kl=\"Merhaba\"\n",
    "print(len(kl))\n",
    "#Stringin uzunluğunu verir\n",
    "\n"
   ]
  },
  {
   "cell_type": "code",
   "execution_count": 42,
   "id": "8a1ddb9b",
   "metadata": {},
   "outputs": [
    {
     "ename": "TypeError",
     "evalue": "'str' object does not support item assignment",
     "output_type": "error",
     "traceback": [
      "\u001b[1;31m---------------------------------------------------------------------------\u001b[0m",
      "\u001b[1;31mTypeError\u001b[0m                                 Traceback (most recent call last)",
      "Cell \u001b[1;32mIn[42], line 1\u001b[0m\n\u001b[1;32m----> 1\u001b[0m kl[\u001b[38;5;241m2\u001b[39m]\u001b[38;5;241m=\u001b[39m\u001b[38;5;124m\"\u001b[39m\u001b[38;5;124mş\u001b[39m\u001b[38;5;124m\"\u001b[39m\n",
      "\u001b[1;31mTypeError\u001b[0m: 'str' object does not support item assignment"
     ]
    }
   ],
   "source": [
    "kl[2]=\"ş\"\n",
    "#Stringler direk değiştirilemez"
   ]
  },
  {
   "cell_type": "code",
   "execution_count": 45,
   "id": "3004889d",
   "metadata": {},
   "outputs": [
    {
     "name": "stdout",
     "output_type": "stream",
     "text": [
      "MiraçAkkoyunBilgisayar Mühendisi\n",
      "Miraç Akkoyun Bilgisayar Mühendisi\n"
     ]
    }
   ],
   "source": [
    "a=\"Miraç\"\n",
    "b=\"Akkoyun\"\n",
    "c=\"Bilgisayar Mühendisi\"\n",
    "print(a+b+c)\n",
    "print(a+\" \"+b+\" \"+c)"
   ]
  },
  {
   "cell_type": "code",
   "execution_count": null,
   "id": "6f54d803",
   "metadata": {},
   "outputs": [],
   "source": []
  }
 ],
 "metadata": {
  "kernelspec": {
   "display_name": "Python 3 (ipykernel)",
   "language": "python",
   "name": "python3"
  },
  "language_info": {
   "codemirror_mode": {
    "name": "ipython",
    "version": 3
   },
   "file_extension": ".py",
   "mimetype": "text/x-python",
   "name": "python",
   "nbconvert_exporter": "python",
   "pygments_lexer": "ipython3",
   "version": "3.10.9"
  }
 },
 "nbformat": 4,
 "nbformat_minor": 5
}
