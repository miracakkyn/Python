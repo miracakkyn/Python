{
 "cells": [
  {
   "cell_type": "code",
   "execution_count": null,
   "id": "8e1f687e",
   "metadata": {},
   "outputs": [],
   "source": [
    "#Tam Sayılar İnteger (int)"
   ]
  },
  {
   "cell_type": "code",
   "execution_count": null,
   "id": "19657de9",
   "metadata": {},
   "outputs": [],
   "source": [
    "#Ondalıklı Sayılar Float(float)"
   ]
  },
  {
   "cell_type": "code",
   "execution_count": 2,
   "id": "c927387b",
   "metadata": {},
   "outputs": [
    {
     "name": "stdout",
     "output_type": "stream",
     "text": [
      "7 6 8 8.0\n"
     ]
    }
   ],
   "source": [
    "print(3+4,3*2,2**3,56/7)"
   ]
  },
  {
   "cell_type": "code",
   "execution_count": 3,
   "id": "bdd52ab4",
   "metadata": {},
   "outputs": [
    {
     "name": "stdout",
     "output_type": "stream",
     "text": [
      "3125\n"
     ]
    }
   ],
   "source": [
    "i=5\n",
    "print(i**i)"
   ]
  },
  {
   "cell_type": "code",
   "execution_count": null,
   "id": "20879df1",
   "metadata": {},
   "outputs": [],
   "source": []
  }
 ],
 "metadata": {
  "kernelspec": {
   "display_name": "Python 3 (ipykernel)",
   "language": "python",
   "name": "python3"
  },
  "language_info": {
   "codemirror_mode": {
    "name": "ipython",
    "version": 3
   },
   "file_extension": ".py",
   "mimetype": "text/x-python",
   "name": "python",
   "nbconvert_exporter": "python",
   "pygments_lexer": "ipython3",
   "version": "3.10.9"
  }
 },
 "nbformat": 4,
 "nbformat_minor": 5
}
