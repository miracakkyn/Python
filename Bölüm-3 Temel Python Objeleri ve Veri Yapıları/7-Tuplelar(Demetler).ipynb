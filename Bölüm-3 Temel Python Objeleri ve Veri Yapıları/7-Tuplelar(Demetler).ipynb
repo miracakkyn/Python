{
 "cells": [
  {
   "cell_type": "code",
   "execution_count": null,
   "id": "0dfb866a",
   "metadata": {},
   "outputs": [],
   "source": [
    "#demetler listelere benzer ama yazıldıktan sonra listeler gibi değiştirilemezler"
   ]
  },
  {
   "cell_type": "code",
   "execution_count": 1,
   "id": "cd34c89b",
   "metadata": {},
   "outputs": [
    {
     "name": "stdout",
     "output_type": "stream",
     "text": [
      "<class 'tuple'>\n"
     ]
    }
   ],
   "source": [
    "demet=(1,2,3,4,5)\n",
    "print(type(demet))\n"
   ]
  },
  {
   "cell_type": "code",
   "execution_count": 2,
   "id": "9b46eb7c",
   "metadata": {},
   "outputs": [
    {
     "name": "stdout",
     "output_type": "stream",
     "text": [
      "4\n"
     ]
    }
   ],
   "source": [
    "print(demet[3])"
   ]
  },
  {
   "cell_type": "code",
   "execution_count": 3,
   "id": "d89112a9",
   "metadata": {},
   "outputs": [
    {
     "ename": "TypeError",
     "evalue": "'tuple' object does not support item assignment",
     "output_type": "error",
     "traceback": [
      "\u001b[1;31m---------------------------------------------------------------------------\u001b[0m",
      "\u001b[1;31mTypeError\u001b[0m                                 Traceback (most recent call last)",
      "Cell \u001b[1;32mIn[3], line 1\u001b[0m\n\u001b[1;32m----> 1\u001b[0m demet[\u001b[38;5;241m3\u001b[39m]\u001b[38;5;241m=\u001b[39m\u001b[38;5;241m10\u001b[39m\n\u001b[0;32m      2\u001b[0m \u001b[38;5;28mprint\u001b[39m(demet)\n",
      "\u001b[1;31mTypeError\u001b[0m: 'tuple' object does not support item assignment"
     ]
    }
   ],
   "source": [
    "demet[3]=10\n",
    "print(demet)\n",
    "#görüldüğü gibi değiştirilemez"
   ]
  },
  {
   "cell_type": "code",
   "execution_count": 5,
   "id": "bb1eab97",
   "metadata": {},
   "outputs": [
    {
     "name": "stdout",
     "output_type": "stream",
     "text": [
      "3\n",
      "1\n"
     ]
    }
   ],
   "source": [
    "demet2=(1,1,1,2,2,3,3,3,3,4,5,5,)\n",
    "print(demet2.count(1))\n",
    "#count içindeki değerin kaç defa geçtiğini sayar\n",
    "print(demet2.count(4))"
   ]
  },
  {
   "cell_type": "code",
   "execution_count": 8,
   "id": "ae542ffa",
   "metadata": {},
   "outputs": [
    {
     "name": "stdout",
     "output_type": "stream",
     "text": [
      "0\n"
     ]
    }
   ],
   "source": [
    "demet3=(\"Miraç\",\"Akkoyun\",\"SMAKFAf\")\n",
    "print(demet3.index(\"Miraç\"))\n",
    "#index içindeki değerin kaçıncı sırada olduğunu söyler\n"
   ]
  },
  {
   "cell_type": "code",
   "execution_count": null,
   "id": "adddcb03",
   "metadata": {},
   "outputs": [],
   "source": []
  }
 ],
 "metadata": {
  "kernelspec": {
   "display_name": "Python 3 (ipykernel)",
   "language": "python",
   "name": "python3"
  },
  "language_info": {
   "codemirror_mode": {
    "name": "ipython",
    "version": 3
   },
   "file_extension": ".py",
   "mimetype": "text/x-python",
   "name": "python",
   "nbconvert_exporter": "python",
   "pygments_lexer": "ipython3",
   "version": "3.10.9"
  }
 },
 "nbformat": 4,
 "nbformat_minor": 5
}
