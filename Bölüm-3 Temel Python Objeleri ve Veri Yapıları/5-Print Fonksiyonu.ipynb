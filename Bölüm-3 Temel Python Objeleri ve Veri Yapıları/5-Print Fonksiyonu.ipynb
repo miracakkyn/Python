{
 "cells": [
  {
   "cell_type": "code",
   "execution_count": 1,
   "id": "cbf3b31b",
   "metadata": {},
   "outputs": [
    {
     "name": "stdout",
     "output_type": "stream",
     "text": [
      "Miraç\n"
     ]
    }
   ],
   "source": [
    "#print ekrana yazı yazdırmaya yarar\n",
    "k=\"Miraç\"\n",
    "print(k)"
   ]
  },
  {
   "cell_type": "code",
   "execution_count": 2,
   "id": "1187ae39",
   "metadata": {},
   "outputs": [
    {
     "name": "stdout",
     "output_type": "stream",
     "text": [
      "Miraç Akkoyun\n"
     ]
    }
   ],
   "source": [
    "print(\"Miraç\",\"Akkoyun\")"
   ]
  },
  {
   "cell_type": "code",
   "execution_count": 3,
   "id": "cba62ed3",
   "metadata": {},
   "outputs": [
    {
     "name": "stdout",
     "output_type": "stream",
     "text": [
      "Merhaba\n",
      "İyi\n",
      "Günler\n"
     ]
    }
   ],
   "source": [
    "#Tersslah n ile alt alta yazabiliriz\n",
    "print(\"Merhaba\\nİyi\\nGünler\")"
   ]
  },
  {
   "cell_type": "code",
   "execution_count": 5,
   "id": "611fddcf",
   "metadata": {},
   "outputs": [
    {
     "name": "stdout",
     "output_type": "stream",
     "text": [
      "Mart\tNisan\tMayıs\n"
     ]
    }
   ],
   "source": [
    "# \\t ile 4 boşluk(tab) kadar boşluk bırakır\n",
    "print(\"Mart\\tNisan\\tMayıs\")"
   ]
  },
  {
   "cell_type": "code",
   "execution_count": 7,
   "id": "553f46bc",
   "metadata": {},
   "outputs": [
    {
     "name": "stdout",
     "output_type": "stream",
     "text": [
      "<class 'int'> <class 'str'> <class 'float'>\n"
     ]
    }
   ],
   "source": [
    "# type() fonksiyonu veri tipini söyler\n",
    "print(type(4),type(\"beş\"),type(3.14))"
   ]
  },
  {
   "cell_type": "code",
   "execution_count": 8,
   "id": "3751103a",
   "metadata": {},
   "outputs": [
    {
     "name": "stdout",
     "output_type": "stream",
     "text": [
      "33/34/35/36\n"
     ]
    }
   ],
   "source": [
    "# sep() parametresi ile araya istediğimizi yazdırırız\n",
    "print(33,34,35,36,sep=\"/\")\n",
    "#normalde boşluk bırakır bu sayede slash koyuyor\n",
    "print(\"04\",\"05\",\"2003\",sep=\"/\")"
   ]
  },
  {
   "cell_type": "code",
   "execution_count": 11,
   "id": "883b6ca5",
   "metadata": {},
   "outputs": [
    {
     "name": "stdout",
     "output_type": "stream",
     "text": [
      "P y t h o n\n",
      "T.B.M.M\n"
     ]
    }
   ],
   "source": [
    "print(*\"Python\")\n",
    "#stringi bölüyor\n",
    "print(*\"TBMM\",sep=\".\")"
   ]
  },
  {
   "cell_type": "code",
   "execution_count": 14,
   "id": "290b8f0d",
   "metadata": {},
   "outputs": [
    {
     "name": "stdout",
     "output_type": "stream",
     "text": [
      "20\n",
      "Miraç Akkoyun\n",
      "20,Miraç Akkoyun\n",
      "300,200,100\n"
     ]
    }
   ],
   "source": [
    "#Formatlama\n",
    "ogrenciYasi=int(input())\n",
    "ogrenciAdiSoyadi=input()\n",
    "print(\"{},{}\".format(ogrenciYasi,ogrenciAdiSoyadi))\n",
    "\n",
    "print(\"{2},{1},{0}\".format(100,200,300))\n",
    "#indeks ile formatlama yapabiliriz"
   ]
  },
  {
   "cell_type": "code",
   "execution_count": 15,
   "id": "2a268790",
   "metadata": {},
   "outputs": [
    {
     "name": "stdout",
     "output_type": "stream",
     "text": [
      "21.321,314.2142\n"
     ]
    }
   ],
   "source": [
    "print(\"{:.3f},{:.4f}\".format(21.32141,314.2142141))\n",
    "#ondalıklı kısmın şu kadarını al diye yazılıyor"
   ]
  },
  {
   "cell_type": "code",
   "execution_count": null,
   "id": "51cb21fa",
   "metadata": {},
   "outputs": [],
   "source": []
  }
 ],
 "metadata": {
  "kernelspec": {
   "display_name": "Python 3 (ipykernel)",
   "language": "python",
   "name": "python3"
  },
  "language_info": {
   "codemirror_mode": {
    "name": "ipython",
    "version": 3
   },
   "file_extension": ".py",
   "mimetype": "text/x-python",
   "name": "python",
   "nbconvert_exporter": "python",
   "pygments_lexer": "ipython3",
   "version": "3.10.9"
  }
 },
 "nbformat": 4,
 "nbformat_minor": 5
}
