{
 "cells": [
  {
   "cell_type": "code",
   "execution_count": 1,
   "id": "3acadf00",
   "metadata": {},
   "outputs": [
    {
     "name": "stdout",
     "output_type": "stream",
     "text": [
      "32\n",
      "32.0\n"
     ]
    }
   ],
   "source": [
    "#tam sayıyı ondalıklı yapma\n",
    "a=32\n",
    "print(a)\n",
    "a=float(a)\n",
    "print(a)"
   ]
  },
  {
   "cell_type": "code",
   "execution_count": 3,
   "id": "51c4b019",
   "metadata": {},
   "outputs": [
    {
     "name": "stdout",
     "output_type": "stream",
     "text": [
      "221.21\n",
      "221\n"
     ]
    }
   ],
   "source": [
    "#ondalıklı sayıyı tam yapma\n",
    "b=221.21\n",
    "print(b)\n",
    "b=int(b)\n",
    "print(b)"
   ]
  },
  {
   "cell_type": "code",
   "execution_count": 8,
   "id": "4d1773b7",
   "metadata": {},
   "outputs": [
    {
     "name": "stdout",
     "output_type": "stream",
     "text": [
      "<class 'int'> 12314\n",
      "<class 'str'> 12314\n",
      "<class 'str'> 3141421\n",
      "<class 'int'> 3141421\n"
     ]
    }
   ],
   "source": [
    "#sayıyı string yapma\n",
    "c=12314\n",
    "print(type(c),c)\n",
    "c=str(c)\n",
    "print(type(c),c)\n",
    "\n",
    "#stringi sayı yapma\n",
    "d=\"3141421\"\n",
    "print(type(d),d)\n",
    "d=int(d)\n",
    "print(type(d),d)\n"
   ]
  },
  {
   "cell_type": "code",
   "execution_count": null,
   "id": "336866cc",
   "metadata": {},
   "outputs": [],
   "source": []
  }
 ],
 "metadata": {
  "kernelspec": {
   "display_name": "Python 3 (ipykernel)",
   "language": "python",
   "name": "python3"
  },
  "language_info": {
   "codemirror_mode": {
    "name": "ipython",
    "version": 3
   },
   "file_extension": ".py",
   "mimetype": "text/x-python",
   "name": "python",
   "nbconvert_exporter": "python",
   "pygments_lexer": "ipython3",
   "version": "3.10.9"
  }
 },
 "nbformat": 4,
 "nbformat_minor": 5
}
