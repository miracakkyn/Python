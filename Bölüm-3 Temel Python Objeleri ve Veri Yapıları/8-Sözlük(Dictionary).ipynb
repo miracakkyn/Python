{
 "cells": [
  {
   "cell_type": "code",
   "execution_count": 1,
   "id": "c98b3141",
   "metadata": {},
   "outputs": [],
   "source": [
    "#gerçek haayt gibi sözlüklerdir örnekle anlaşır olur"
   ]
  },
  {
   "cell_type": "code",
   "execution_count": 2,
   "id": "a81f7db3",
   "metadata": {},
   "outputs": [],
   "source": [
    "sozluk1={\"sıfır\":0,\"bir\":1,\"iki\":2}"
   ]
  },
  {
   "cell_type": "code",
   "execution_count": 3,
   "id": "4e397cc3",
   "metadata": {},
   "outputs": [
    {
     "name": "stdout",
     "output_type": "stream",
     "text": [
      "{'sıfır': 0, 'bir': 1, 'iki': 2}\n"
     ]
    }
   ],
   "source": [
    "print(sozluk1)"
   ]
  },
  {
   "cell_type": "code",
   "execution_count": 4,
   "id": "c587c3dc",
   "metadata": {},
   "outputs": [
    {
     "name": "stdout",
     "output_type": "stream",
     "text": [
      "{} {}\n"
     ]
    }
   ],
   "source": [
    "#boş bir sözlük\n",
    "sozluk2={}\n",
    "#veya \n",
    "sozluk3=dict()\n",
    "print(sozluk2,sozluk3)"
   ]
  },
  {
   "cell_type": "code",
   "execution_count": 5,
   "id": "b8711f1b",
   "metadata": {},
   "outputs": [
    {
     "name": "stdout",
     "output_type": "stream",
     "text": [
      "0\n"
     ]
    }
   ],
   "source": [
    "print(sozluk1[\"sıfır\"])"
   ]
  },
  {
   "cell_type": "code",
   "execution_count": 7,
   "id": "3ea66750",
   "metadata": {},
   "outputs": [
    {
     "name": "stdout",
     "output_type": "stream",
     "text": [
      "5\n"
     ]
    }
   ],
   "source": [
    "#eklemek istersek\n",
    "sozluk1[\"beş\"]=5\n",
    "print(sozluk1[\"beş\"])"
   ]
  },
  {
   "cell_type": "code",
   "execution_count": null,
   "id": "d6c689c1",
   "metadata": {},
   "outputs": [],
   "source": []
  }
 ],
 "metadata": {
  "kernelspec": {
   "display_name": "Python 3 (ipykernel)",
   "language": "python",
   "name": "python3"
  },
  "language_info": {
   "codemirror_mode": {
    "name": "ipython",
    "version": 3
   },
   "file_extension": ".py",
   "mimetype": "text/x-python",
   "name": "python",
   "nbconvert_exporter": "python",
   "pygments_lexer": "ipython3",
   "version": "3.10.9"
  }
 },
 "nbformat": 4,
 "nbformat_minor": 5
}
