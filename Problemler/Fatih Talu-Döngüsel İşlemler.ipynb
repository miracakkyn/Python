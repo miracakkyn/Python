{
 "cells": [
  {
   "cell_type": "code",
   "execution_count": null,
   "id": "ef336cfc",
   "metadata": {},
   "outputs": [],
   "source": [
    "#Girilen 5 sayının ortalamasını bulan program?\n",
    "total=0\n",
    "for i in range(5):\n",
    "    sayi=int(input(\"Sayı giriniz:\"))\n",
    "    total+=sayi\n",
    "    if(i==4):\n",
    "        ort=total/5\n",
    "        print(ort)\n"
   ]
  },
  {
   "cell_type": "code",
   "execution_count": null,
   "id": "7906ab8f",
   "metadata": {},
   "outputs": [],
   "source": [
    "#Girilen 5 sayı içerisindeki minimum ve maksimum değerleri bulan program?\n",
    "for i in range(5):\n",
    "    sayi=int(input(\"Sayı giriniz:\"))\n",
    "    if(i==0):\n",
    "        minS=sayi\n",
    "        maxS=sayi\n",
    "    if(sayi>maxS):\n",
    "        maxS=sayi\n",
    "    if(sayi<minS):\n",
    "        minS=sayi\n",
    "print(maxS,minS)\n",
    "        "
   ]
  },
  {
   "cell_type": "code",
   "execution_count": null,
   "id": "c392ffec",
   "metadata": {},
   "outputs": [],
   "source": [
    "#N’e kadar tek sayıları yazdıran program?\n",
    "n=int(input(\"n sayısı giriniz:\"))\n",
    "for i in range(1,n+1):\n",
    "    if(i%2!=0):\n",
    "        print(i)"
   ]
  },
  {
   "cell_type": "code",
   "execution_count": null,
   "id": "df33bcec",
   "metadata": {},
   "outputs": [],
   "source": [
    "#Girilen sayının tam bölenlerini bulan program?\n",
    "n=int(input(\"n sayısı giriniz:\"))\n",
    "liste=[]\n",
    "for i in range(1,n+1):\n",
    "    if(n%i==0):\n",
    "        liste.append(i)\n",
    "print(liste)"
   ]
  },
  {
   "cell_type": "code",
   "execution_count": null,
   "id": "9ea4db38",
   "metadata": {},
   "outputs": [],
   "source": [
    "# a**b yi açık hesaplayan program?\n",
    "a=input(\"a giriniz:\")\n",
    "b=input(\"b giriniz:\")\n",
    "sayi=\"\"\n",
    "for i in range(int(b)):\n",
    "    if(i==int(b)-1):\n",
    "        sayi+=a\n",
    "        print(\"a**b nin açık değeri:{}={}\".format(sayi,(int(a)**int(b))))\n",
    "        break\n",
    "    sayi+=(a+\".\")\n",
    "    \n",
    "    "
   ]
  },
  {
   "cell_type": "code",
   "execution_count": null,
   "id": "90f330a2",
   "metadata": {},
   "outputs": [],
   "source": [
    "#n’e kadar ki tek sayıların toplamı, çift sayıların çarpımını hesaplayan program?\n",
    "n=int(input(\"n değeri giriniz:\"))\n",
    "toplam=0\n",
    "carpim=1\n",
    "for i in range(1,n+1):\n",
    "    if(i%2==1):\n",
    "        toplam+=i\n",
    "    else:\n",
    "        carpim*=i\n",
    "print(toplam,carpim)\n",
    "    "
   ]
  },
  {
   "cell_type": "code",
   "execution_count": null,
   "id": "6f56b9cc",
   "metadata": {},
   "outputs": [],
   "source": [
    "#Girilen sayının faktöriyelini hesaplayan program?\n",
    "n=int(input(\"N değeri giriniz:\"))\n",
    "fako=1\n",
    "for i in range(2,n+1):\n",
    "    fako*=i\n",
    "print(fako)"
   ]
  },
  {
   "cell_type": "code",
   "execution_count": null,
   "id": "95ccc34a",
   "metadata": {},
   "outputs": [],
   "source": [
    "#Girilen n değerine göre Fibonacci serisinin \n",
    "#( 0 1 1 2 3 5 8 … ) ilk n terimini hesaplayınız?\n",
    "n=int(input(\"ilk kaç terimi girmek istediğinizi söyleyin:\"))\n",
    "sayi1=0\n",
    "sayi2=1\n",
    "yedek=0\n",
    "liste=[0,1]\n",
    "for i in range(n-2):\n",
    "    yedek=sayi1+sayi2\n",
    "    sayi1=sayi2\n",
    "    sayi2=yedek\n",
    "    liste.append(yedek)\n",
    "    \n",
    "print(liste)\n",
    "    "
   ]
  },
  {
   "cell_type": "code",
   "execution_count": 7,
   "id": "bd24cd11",
   "metadata": {},
   "outputs": [
    {
     "name": "stdout",
     "output_type": "stream",
     "text": [
      "n değeri giriniz:6\n",
      "Sayı giriniz:1\n",
      "Sayı giriniz:0\n",
      "Sayı giriniz:2\n",
      "Sayı giriniz:-2\n",
      "Sayı giriniz:-3\n",
      "Sayı giriniz:5\n",
      "Pozitif:3 , Sıfır:1 , Negatif:2\n"
     ]
    }
   ],
   "source": [
    "#Girilen n adet sayı içerisinden pozitif, negatif ve sıfır sayısının kaçar adet tekrarlandığını bulan program\n",
    "n=int(input(\"n değeri giriniz:\"))\n",
    "liste=[[],[],[]]\n",
    "for i in range(n):\n",
    "    sayi=int(input(\"Sayı giriniz:\"))\n",
    "    if(sayi>0):\n",
    "        liste[2].append(sayi)\n",
    "    elif(sayi==0):\n",
    "        liste[1].append(0)\n",
    "    else:\n",
    "        liste[0].append(sayi)\n",
    "    if(i==n-1):\n",
    "        print(\"Pozitif:{} , Sıfır:{} , Negatif:{}\".format(len(liste[2]),len(liste[1]),len(liste[0])))"
   ]
  },
  {
   "cell_type": "code",
   "execution_count": 11,
   "id": "31f923b9",
   "metadata": {},
   "outputs": [
    {
     "name": "stdout",
     "output_type": "stream",
     "text": [
      "Sayı giriniz:347\n",
      "Sayımız asaldır\n"
     ]
    }
   ],
   "source": [
    "#Girilen bir sayının asal olup olmadığını bulunuz?\n",
    "n=int(input(\"Sayı giriniz:\"))\n",
    "for i in range(2,n):\n",
    "    if(n%i==0):\n",
    "        print(\"Sayımız asal değildir\")\n",
    "        break\n",
    "    if(i==n-1):\n",
    "        print(\"Sayımız asaldır\")\n",
    "        "
   ]
  },
  {
   "cell_type": "code",
   "execution_count": 18,
   "id": "cd89ba64",
   "metadata": {},
   "outputs": [
    {
     "name": "stdout",
     "output_type": "stream",
     "text": [
      "n değeri giriniz:72\n",
      "[3]\n"
     ]
    }
   ],
   "source": [
    "#Girilen bir sayının asal çarpanlarını bulan program?\n",
    "n=int(input(\"n değeri giriniz:\"))\n",
    "liste=[]\n",
    "for i in range(2,n+1):\n",
    "    if(n%i==0):\n",
    "        for j in range(2,i):\n",
    "            if ((i%j)==0):\n",
    "                break\n",
    "            if(j==i-1):\n",
    "                liste.append(i)\n",
    "print(liste)\n",
    "                "
   ]
  },
  {
   "cell_type": "code",
   "execution_count": 3,
   "id": "c4f75023",
   "metadata": {},
   "outputs": [
    {
     "name": "stdout",
     "output_type": "stream",
     "text": [
      "Sayı giriniz:1234\n",
      "24\n"
     ]
    }
   ],
   "source": [
    "#Girilen sayının basamak değerleri çarpımını bulunuz?\n",
    "\n",
    "sayi=int(input(\"Sayı giriniz:\"))\n",
    "total=1\n",
    "while True:\n",
    "    total*=sayi%10\n",
    "    sayi=sayi//10\n",
    "    if(sayi==0):\n",
    "        print(total)\n",
    "        break\n",
    "    \n",
    "    "
   ]
  },
  {
   "cell_type": "code",
   "execution_count": 8,
   "id": "1ec8878f",
   "metadata": {},
   "outputs": [
    {
     "name": "stdout",
     "output_type": "stream",
     "text": [
      "Sayı giriniz:56484585973241361781574574\n",
      "k değeri giriniz:4\n",
      "[7, 5, 1, 8, 6, 3, 2, 9]\n"
     ]
    }
   ],
   "source": [
    "#Girilen sayının basamak değerlerinde k rakamı olmayanları listeleyen program?\n",
    "sayi=int(input(\"Sayı giriniz:\"))\n",
    "k=int(input(\"k değeri giriniz:\"))\n",
    "liste=[]\n",
    "while True:\n",
    "    if(sayi==0):\n",
    "        print(liste)\n",
    "        break\n",
    "    if(sayi%10 in liste):\n",
    "        sayi=sayi//10\n",
    "        continue\n",
    "    if(sayi%10!=k):\n",
    "        liste.append(sayi%10)\n",
    "        sayi=sayi//10\n",
    "    else:\n",
    "        sayi=sayi//10\n",
    "        continue\n",
    "    \n",
    "\n",
    "    "
   ]
  },
  {
   "cell_type": "code",
   "execution_count": 12,
   "id": "aef02190",
   "metadata": {},
   "outputs": [
    {
     "name": "stdout",
     "output_type": "stream",
     "text": [
      "Sayı giriniz:2\n",
      "1\n"
     ]
    }
   ],
   "source": [
    "#Girilen sayının basamak sayısını ekrana yazdıran program?\n",
    "sayi=int(input(\"Sayı giriniz:\"))\n",
    "total=0\n",
    "while True:\n",
    "    sayi=sayi//10\n",
    "    total+=1\n",
    "    if(sayi==0):\n",
    "        print(total)\n",
    "        break\n",
    "    "
   ]
  },
  {
   "cell_type": "code",
   "execution_count": 14,
   "id": "29426cd4",
   "metadata": {},
   "outputs": [
    {
     "name": "stdout",
     "output_type": "stream",
     "text": [
      "tc no giriniz:dsafsafsajfgsahfgasbf\n",
      "eksik veya fazla karakter girnizi tekrar girin\n",
      "tc no giriniz:fjsfhasbfsa\n",
      "Hatalı tc tekrar giriniz:\n",
      "tc no giriniz:12345678911\n",
      "doğru giriş yaptınız\n"
     ]
    }
   ],
   "source": [
    "#TC kimlik noyu doğru girmeye zorlayınız? (11 karakter ve tamamı sayı)\n",
    "rakam=[\"0\",\"1\",\"2\",\"3\",\"4\",\"5\",\"6\",\"7\",\"8\",\"9\"]\n",
    "c=0\n",
    "while True:\n",
    "    tc=input(\"tc no giriniz:\")\n",
    "    if(len(tc)!=11):\n",
    "        print(\"eksik veya fazla karakter girnizi tekrar girin\")\n",
    "        continue\n",
    "    for i in range(len(tc)):\n",
    "        if(tc[i] not in rakam):\n",
    "            print(\"Hatalı tc tekrar giriniz:\")\n",
    "            break\n",
    "        if(i==len(tc)-1):\n",
    "            c=1\n",
    "            print(\"doğru giriş yaptınız\")\n",
    "            \n",
    "    if(c==1):\n",
    "        break\n",
    "            \n",
    "        "
   ]
  },
  {
   "cell_type": "code",
   "execution_count": 6,
   "id": "c7095a3a",
   "metadata": {},
   "outputs": [
    {
     "name": "stdout",
     "output_type": "stream",
     "text": [
      "Cümle giriniz:Miraç malatyada yaşıyor\n",
      "royışay adaytalam çariM\n"
     ]
    }
   ],
   "source": [
    "#Girilen cümleyi tersten yazdırın?\n",
    "cumle=input(\"Cümle giriniz:\")\n",
    "cumle2=\"\"\n",
    "for i in range(len(cumle)):\n",
    "    cumle2+=cumle[-1-i]\n",
    "print(cumle2)\n",
    "    \n",
    "    "
   ]
  },
  {
   "cell_type": "code",
   "execution_count": 7,
   "id": "065cb6b4",
   "metadata": {},
   "outputs": [
    {
     "name": "stdout",
     "output_type": "stream",
     "text": [
      "Cumle giriniz:Miraç malatyada yaşıyor. Kendisi Öğrenci.\n",
      "35\n"
     ]
    }
   ],
   "source": [
    "#Girilen cümledeki harflerin adetlerini ekrana yazın?\n",
    "liste=[\"?\",\".\",\",\",\"!\",\" \"]\n",
    "cumle=input(\"Cumle giriniz:\")\n",
    "adet=0\n",
    "for i in cumle:\n",
    "    if(i not in liste):\n",
    "        adet+=1\n",
    "print(adet)\n",
    "        "
   ]
  },
  {
   "cell_type": "code",
   "execution_count": 28,
   "id": "9691804f",
   "metadata": {},
   "outputs": [
    {
     "name": "stdout",
     "output_type": "stream",
     "text": [
      "Sayı giriniz:12\n",
      "Sayımız pronicdir\n",
      "3*2=6\n"
     ]
    }
   ],
   "source": [
    "#Girilen sayının Pronic (ardışık iki sayının çarpımına eşit) olup olmadığını bulunuz?\n",
    "sayi=int(input(\"Sayı giriniz:\"))\n",
    "liste=[]\n",
    "for i in range(1,sayi):\n",
    "    if(sayi%i==0):\n",
    "        liste.append(i)\n",
    "for i in range(len(liste)):\n",
    "    for j in range(len(liste)):\n",
    "        if(liste[i]*liste[j]==sayi and (liste[i]-liste[j]==1 or liste[j]-liste[i]==-1)):\n",
    "            print(\"Sayımız pronicdir\")\n",
    "            print(\"{}*{}={}\".format(i,j,i*j))\n",
    "            break\n",
    "#BİR DAHA ÇÖZÜLECEK       "
   ]
  },
  {
   "cell_type": "code",
   "execution_count": null,
   "id": "88e2eb8c",
   "metadata": {},
   "outputs": [],
   "source": []
  }
 ],
 "metadata": {
  "kernelspec": {
   "display_name": "Python 3 (ipykernel)",
   "language": "python",
   "name": "python3"
  },
  "language_info": {
   "codemirror_mode": {
    "name": "ipython",
    "version": 3
   },
   "file_extension": ".py",
   "mimetype": "text/x-python",
   "name": "python",
   "nbconvert_exporter": "python",
   "pygments_lexer": "ipython3",
   "version": "3.10.9"
  }
 },
 "nbformat": 4,
 "nbformat_minor": 5
}
