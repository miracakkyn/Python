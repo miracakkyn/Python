{
 "cells": [
  {
   "cell_type": "code",
   "execution_count": 2,
   "id": "e993a3fb",
   "metadata": {},
   "outputs": [
    {
     "name": "stdout",
     "output_type": "stream",
     "text": [
      "True\n",
      "False\n"
     ]
    }
   ],
   "source": [
    "#and operatörü ikisi doğruysa doğru\n",
    "print(1<2 and \"Murat\"==\"Murat\")\n",
    "print(1>2 and \"Murat\"==\"Murat\")"
   ]
  },
  {
   "cell_type": "code",
   "execution_count": 5,
   "id": "0e2684eb",
   "metadata": {},
   "outputs": [
    {
     "name": "stdout",
     "output_type": "stream",
     "text": [
      "True\n",
      "False\n"
     ]
    }
   ],
   "source": [
    "#or operatörü- 1 tane true olursa hepsi true, eğer hepsi false ise cevap false\n",
    "print(1>2 or 5==5)\n",
    "print(1>2 or 5==6)"
   ]
  },
  {
   "cell_type": "code",
   "execution_count": 6,
   "id": "efca9ffd",
   "metadata": {},
   "outputs": [
    {
     "name": "stdout",
     "output_type": "stream",
     "text": [
      "False\n"
     ]
    }
   ],
   "source": [
    "#not operatörü cevapı ter ceviriyor\n",
    "print(not 1<2)"
   ]
  },
  {
   "cell_type": "code",
   "execution_count": null,
   "id": "84e17104",
   "metadata": {},
   "outputs": [],
   "source": []
  }
 ],
 "metadata": {
  "kernelspec": {
   "display_name": "Python 3 (ipykernel)",
   "language": "python",
   "name": "python3"
  },
  "language_info": {
   "codemirror_mode": {
    "name": "ipython",
    "version": 3
   },
   "file_extension": ".py",
   "mimetype": "text/x-python",
   "name": "python",
   "nbconvert_exporter": "python",
   "pygments_lexer": "ipython3",
   "version": "3.10.9"
  }
 },
 "nbformat": 4,
 "nbformat_minor": 5
}
