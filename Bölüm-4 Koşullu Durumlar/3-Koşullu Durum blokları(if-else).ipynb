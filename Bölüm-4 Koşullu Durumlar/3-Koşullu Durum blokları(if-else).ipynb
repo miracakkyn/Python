{
 "cells": [
  {
   "cell_type": "code",
   "execution_count": 1,
   "id": "4e1ecd80",
   "metadata": {},
   "outputs": [
    {
     "name": "stdout",
     "output_type": "stream",
     "text": [
      "Merhaba\n"
     ]
    }
   ],
   "source": [
    "a=2\n",
    "if(a==2):\n",
    "    print(\"Merhaba\")\n",
    "else:\n",
    "    print(\"elveda\")"
   ]
  },
  {
   "cell_type": "code",
   "execution_count": 3,
   "id": "ef528a53",
   "metadata": {},
   "outputs": [
    {
     "name": "stdout",
     "output_type": "stream",
     "text": [
      "Yaşınızı giriniz:17\n",
      "Mekana giremezsiniz\n"
     ]
    }
   ],
   "source": [
    "yas=int(input(\"Yaşınızı giriniz:\"))\n",
    "if(yas>=18):\n",
    "    print(\"Hoşgeldiniz\")\n",
    "else:\n",
    "    print(\"Mekana giremezsiniz\")"
   ]
  },
  {
   "cell_type": "code",
   "execution_count": 6,
   "id": "7609edd0",
   "metadata": {},
   "outputs": [
    {
     "name": "stdout",
     "output_type": "stream",
     "text": [
      "-5\n",
      "Sayı negatif\n"
     ]
    }
   ],
   "source": [
    "sayi=int(input())\n",
    "if(sayi>0):\n",
    "    print(\"sayı pozitif\")\n",
    "elif(sayi==0):\n",
    "    print(\"Sayı 0dır\")\n",
    "else:\n",
    "    print(\"Sayı negatif\")"
   ]
  },
  {
   "cell_type": "code",
   "execution_count": null,
   "id": "2ce1ea2f",
   "metadata": {},
   "outputs": [],
   "source": []
  }
 ],
 "metadata": {
  "kernelspec": {
   "display_name": "Python 3 (ipykernel)",
   "language": "python",
   "name": "python3"
  },
  "language_info": {
   "codemirror_mode": {
    "name": "ipython",
    "version": 3
   },
   "file_extension": ".py",
   "mimetype": "text/x-python",
   "name": "python",
   "nbconvert_exporter": "python",
   "pygments_lexer": "ipython3",
   "version": "3.10.9"
  }
 },
 "nbformat": 4,
 "nbformat_minor": 5
}
