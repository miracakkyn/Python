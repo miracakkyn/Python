{
 "cells": [
  {
   "cell_type": "code",
   "execution_count": 1,
   "id": "3f4a1094",
   "metadata": {},
   "outputs": [],
   "source": [
    "#Mantıksal DEğerler (Boolean) -Koşulların True Flase olma durumunu kontrol eder"
   ]
  },
  {
   "cell_type": "code",
   "execution_count": 3,
   "id": "68547d19",
   "metadata": {},
   "outputs": [
    {
     "name": "stdout",
     "output_type": "stream",
     "text": [
      "True\n",
      "True False\n"
     ]
    }
   ],
   "source": [
    "a=True\n",
    "print(a)\n",
    "b=False\n",
    "print(a,b)"
   ]
  },
  {
   "cell_type": "code",
   "execution_count": 9,
   "id": "9a5b9b61",
   "metadata": {},
   "outputs": [
    {
     "name": "stdout",
     "output_type": "stream",
     "text": [
      "True\n",
      "True\n",
      "False\n",
      "True\n",
      "False\n"
     ]
    }
   ],
   "source": [
    "#bool() içi sıfırsa cevap false öteki durumlarda true olur\n",
    "print(bool(-52))\n",
    "print(bool(5))\n",
    "print(bool(0))\n",
    "print(bool(1.23))\n",
    "print(bool(0.0))"
   ]
  },
  {
   "cell_type": "code",
   "execution_count": 12,
   "id": "9c836bb3",
   "metadata": {},
   "outputs": [
    {
     "name": "stdout",
     "output_type": "stream",
     "text": [
      "True\n",
      "False\n",
      "False\n",
      "True\n",
      "True\n",
      "False\n"
     ]
    }
   ],
   "source": [
    "print(1==1)\n",
    "#eşit eşitmi diyor\n",
    "print(1!=1)\n",
    "#eşit eşit değil anlamı\n",
    "print(2<0)\n",
    "#küçük\n",
    "print(2>0)\n",
    "#büyük\n",
    "print(2<=2)\n",
    "#küçük eşit\n",
    "print(2>=3)\n",
    "#büyük eşit"
   ]
  },
  {
   "cell_type": "code",
   "execution_count": 13,
   "id": "56147f29",
   "metadata": {},
   "outputs": [
    {
     "name": "stdout",
     "output_type": "stream",
     "text": [
      "True\n"
     ]
    }
   ],
   "source": [
    "print(\"Mehmet\"==\"Mehmet\")"
   ]
  },
  {
   "cell_type": "code",
   "execution_count": 16,
   "id": "ab9c1c81",
   "metadata": {},
   "outputs": [
    {
     "data": {
      "text/plain": [
       "False"
      ]
     },
     "execution_count": 16,
     "metadata": {},
     "output_type": "execute_result"
    }
   ],
   "source": [
    "[1,2,3]==[3,1,2]"
   ]
  },
  {
   "cell_type": "code",
   "execution_count": 18,
   "id": "8a4d6a42",
   "metadata": {},
   "outputs": [
    {
     "data": {
      "text/plain": [
       "True"
      ]
     },
     "execution_count": 18,
     "metadata": {},
     "output_type": "execute_result"
    }
   ],
   "source": [
    "[1,2,3]==[1,2,3]"
   ]
  },
  {
   "cell_type": "code",
   "execution_count": null,
   "id": "b96f9490",
   "metadata": {},
   "outputs": [],
   "source": []
  }
 ],
 "metadata": {
  "kernelspec": {
   "display_name": "Python 3 (ipykernel)",
   "language": "python",
   "name": "python3"
  },
  "language_info": {
   "codemirror_mode": {
    "name": "ipython",
    "version": 3
   },
   "file_extension": ".py",
   "mimetype": "text/x-python",
   "name": "python",
   "nbconvert_exporter": "python",
   "pygments_lexer": "ipython3",
   "version": "3.10.9"
  }
 },
 "nbformat": 4,
 "nbformat_minor": 5
}
