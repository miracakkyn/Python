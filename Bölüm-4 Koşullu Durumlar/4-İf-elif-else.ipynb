{
 "cells": [
  {
   "cell_type": "code",
   "execution_count": 5,
   "id": "89a677b5",
   "metadata": {},
   "outputs": [
    {
     "name": "stdout",
     "output_type": "stream",
     "text": [
      "İşlem giriniz:5\n",
      "geçersiz işlem\n"
     ]
    }
   ],
   "source": [
    "#H\n",
    "islem=int(input(\"İşlem giriniz:\"))\n",
    "if(islem==1):\n",
    "    print(\"İşlem 1 seçildi\")\n",
    "elif(islem==2):\n",
    "    print(\"İşlem 2 seçildi\")\n",
    "elif(islem==3):\n",
    "    print(\"İşlem 3 seçildi\")\n",
    "elif(islem==4):\n",
    "    print(\"İslem 4 seçildi\")\n",
    "else:\n",
    "    print(\"geçersiz işlem\")\n",
    "    "
   ]
  },
  {
   "cell_type": "code",
   "execution_count": null,
   "id": "da71541d",
   "metadata": {},
   "outputs": [],
   "source": []
  }
 ],
 "metadata": {
  "kernelspec": {
   "display_name": "Python 3 (ipykernel)",
   "language": "python",
   "name": "python3"
  },
  "language_info": {
   "codemirror_mode": {
    "name": "ipython",
    "version": 3
   },
   "file_extension": ".py",
   "mimetype": "text/x-python",
   "name": "python",
   "nbconvert_exporter": "python",
   "pygments_lexer": "ipython3",
   "version": "3.10.9"
  }
 },
 "nbformat": 4,
 "nbformat_minor": 5
}
