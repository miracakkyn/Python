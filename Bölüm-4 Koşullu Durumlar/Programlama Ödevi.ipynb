{
 "cells": [
  {
   "cell_type": "code",
   "execution_count": 4,
   "id": "31a38f73",
   "metadata": {},
   "outputs": [
    {
     "name": "stdout",
     "output_type": "stream",
     "text": [
      "Kilonuzu giriniz:72\n",
      "Metre cinsinden boyunuzu giriniz:1.82\n",
      "Normal\n"
     ]
    }
   ],
   "source": [
    "#Kullanıcıdan alınan boy ve kilo değerlerine göre beden kitle indeksini hesaplayın ve şu kurallara göre ekrana şu yazıları yazdırın.\n",
    "#bki=kilo/boy(m)*boy(m)\n",
    "#BKİ 18.5'un altındaysa -------> Zayıf\n",
    "#BKİ 18.5 ile 25 arasındaysa ------> Normal\n",
    "#BKİ 25 ile 30 arasındaysa --------> Fazla Kilolu\n",
    "#BKİ 30'un üstündeyse -------------> Obez\n",
    "kilo=int(input(\"Kilonuzu giriniz:\"))\n",
    "boy=float(input(\"Metre cinsinden boyunuzu giriniz:\"))\n",
    "\n",
    "bki=kilo/(boy**2)\n",
    "if(bki<18.5):\n",
    "    print(\"Zayıf\")\n",
    "elif(bki>=18.5 and bki < 25):\n",
    "    print(\"Normal\")\n",
    "elif(bki>=25 and bki<30):\n",
    "    print(\"fazla kilolu\")\n",
    "else:\n",
    "    print(\"Obez az ye aw\")"
   ]
  },
  {
   "cell_type": "code",
   "execution_count": 8,
   "id": "7b06bc69",
   "metadata": {},
   "outputs": [
    {
     "name": "stdout",
     "output_type": "stream",
     "text": [
      "Birinci sayı:22\n",
      "İkinci sayı:22\n",
      "Üçüncü sayı:22\n",
      "En büyük sayı c'dir\n"
     ]
    }
   ],
   "source": [
    "#Kullanıcıdan 3 tane sayı alın ve en büyük sayıyı ekrana yazdırın.\n",
    "\n",
    "a=int(input(\"Birinci sayı:\"))\n",
    "b=int(input(\"İkinci sayı:\"))\n",
    "c=int(input(\"Üçüncü sayı:\"))\n",
    "if(a>b and a>c):\n",
    "    print(\"En büyük sayı a'dır\")\n",
    "elif(b>a and b>c):\n",
    "    print(\"En büyük sayı b'dir\")\n",
    "else:\n",
    "    print(\"En büyük sayı c'dir\")"
   ]
  },
  {
   "cell_type": "code",
   "execution_count": null,
   "id": "c7e16ccf",
   "metadata": {},
   "outputs": [],
   "source": []
  }
 ],
 "metadata": {
  "kernelspec": {
   "display_name": "Python 3 (ipykernel)",
   "language": "python",
   "name": "python3"
  },
  "language_info": {
   "codemirror_mode": {
    "name": "ipython",
    "version": 3
   },
   "file_extension": ".py",
   "mimetype": "text/x-python",
   "name": "python",
   "nbconvert_exporter": "python",
   "pygments_lexer": "ipython3",
   "version": "3.10.9"
  }
 },
 "nbformat": 4,
 "nbformat_minor": 5
}
