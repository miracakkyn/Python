{
 "cells": [
  {
   "cell_type": "code",
   "execution_count": 1,
   "id": "4853c5cf",
   "metadata": {},
   "outputs": [],
   "source": [
    "#Özel Metodlar bizim özel olarak çağırmadığımız ancak her classa ait metodlardır. bunların çoğu \n",
    "# -biz tanımlamasak bile python tarafından varsayılan olarak tanımlanır\n",
    "# ancak bu metodların bazılarını bizim özel olarak tanımlamamız gerekir init buna örnektir"
   ]
  },
  {
   "cell_type": "code",
   "execution_count": 14,
   "id": "c857b3a7",
   "metadata": {},
   "outputs": [],
   "source": [
    "class kitapSinifi():\n",
    "    pass\n"
   ]
  },
  {
   "cell_type": "code",
   "execution_count": 15,
   "id": "1c32767f",
   "metadata": {},
   "outputs": [],
   "source": [
    "kitap=kitapSinifi()\n",
    "#__init__ metodu"
   ]
  },
  {
   "cell_type": "code",
   "execution_count": 16,
   "id": "3e7d0c1c",
   "metadata": {},
   "outputs": [
    {
     "name": "stdout",
     "output_type": "stream",
     "text": [
      "<__main__.kitapSinifi object at 0x00000258E5DB28C0>\n"
     ]
    }
   ],
   "source": [
    "print(kitap)\n",
    "#__str__ metodu"
   ]
  },
  {
   "cell_type": "code",
   "execution_count": 17,
   "id": "a69014ed",
   "metadata": {},
   "outputs": [
    {
     "ename": "TypeError",
     "evalue": "object of type 'kitapSinifi' has no len()",
     "output_type": "error",
     "traceback": [
      "\u001b[1;31m---------------------------------------------------------------------------\u001b[0m",
      "\u001b[1;31mTypeError\u001b[0m                                 Traceback (most recent call last)",
      "Cell \u001b[1;32mIn[17], line 1\u001b[0m\n\u001b[1;32m----> 1\u001b[0m \u001b[38;5;28;43mlen\u001b[39;49m\u001b[43m(\u001b[49m\u001b[43mkitap\u001b[49m\u001b[43m)\u001b[49m\n",
      "\u001b[1;31mTypeError\u001b[0m: object of type 'kitapSinifi' has no len()"
     ]
    }
   ],
   "source": [
    "len(kitap)\n",
    "#__len__ metodu"
   ]
  },
  {
   "cell_type": "code",
   "execution_count": 19,
   "id": "e610d946",
   "metadata": {},
   "outputs": [
    {
     "ename": "NameError",
     "evalue": "name 'kitap' is not defined",
     "output_type": "error",
     "traceback": [
      "\u001b[1;31m---------------------------------------------------------------------------\u001b[0m",
      "\u001b[1;31mNameError\u001b[0m                                 Traceback (most recent call last)",
      "Cell \u001b[1;32mIn[19], line 1\u001b[0m\n\u001b[1;32m----> 1\u001b[0m \u001b[38;5;28;01mdel\u001b[39;00m kitap\n\u001b[0;32m      2\u001b[0m \u001b[38;5;66;03m# __del__metodu del objeyi değişkeni vs sileri\u001b[39;00m\n\u001b[0;32m      3\u001b[0m \u001b[38;5;28mprint\u001b[39m(kitap)\n",
      "\u001b[1;31mNameError\u001b[0m: name 'kitap' is not defined"
     ]
    }
   ],
   "source": [
    "del kitap\n",
    "# __del__metodu del objeyi değişkeni vs sileri\n",
    "print(kitap)"
   ]
  },
  {
   "cell_type": "code",
   "execution_count": 20,
   "id": "eb732a86",
   "metadata": {},
   "outputs": [],
   "source": [
    "# şimdi bu metodları biz tanımlayacağız"
   ]
  },
  {
   "cell_type": "code",
   "execution_count": 22,
   "id": "b112ded3",
   "metadata": {},
   "outputs": [],
   "source": [
    "class kitapSinifi():\n",
    "    def __init__(self,isim,yazar,sayfaSayisi,tur):\n",
    "        print(\"İnit fonksiyonu çalıştırıldı\")\n",
    "        self.isim=isim\n",
    "        self.yazar=yazar\n",
    "        self.sayfaSayisi=sayfaSayisi\n",
    "        self.tur=tur"
   ]
  },
  {
   "cell_type": "code",
   "execution_count": 23,
   "id": "b04df954",
   "metadata": {},
   "outputs": [
    {
     "name": "stdout",
     "output_type": "stream",
     "text": [
      "İnit fonksiyonu çalıştırıldı\n"
     ]
    }
   ],
   "source": [
    "kitap2=kitapSinifi(\"İstanbul Hatırası\",\"Ahmet Ümit\",501,\"Polisiye\")"
   ]
  },
  {
   "cell_type": "code",
   "execution_count": 28,
   "id": "29642650",
   "metadata": {},
   "outputs": [],
   "source": [
    "class kitapSinifi():\n",
    "    def __init__(self,isim,yazar,sayfaSayisi,tur):\n",
    "        print(\"İnit fonksiyonu çalıştırıldı\")\n",
    "        self.isim=isim\n",
    "        self.yazar=yazar\n",
    "        self.sayfaSayisi=sayfaSayisi\n",
    "        self.tur=tur\n",
    "    def __str__(self):\n",
    "        return \"isim:{} \\n(Strnin çalıştığını göstermek için yazıyom)Yazar:{}\\nSayfa Sayısı:{}\\nTür:{}\".format(self.isim,self.yazar,self.sayfaSayisi,self.tur)"
   ]
  },
  {
   "cell_type": "code",
   "execution_count": 29,
   "id": "047a15aa",
   "metadata": {},
   "outputs": [
    {
     "name": "stdout",
     "output_type": "stream",
     "text": [
      "İnit fonksiyonu çalıştırıldı\n"
     ]
    }
   ],
   "source": [
    "kitap2=kitapSinifi(\"İstanbul Hatırası\",\"Ahmet Ümit\",501,\"Polisiye\")"
   ]
  },
  {
   "cell_type": "code",
   "execution_count": 32,
   "id": "6c9f0dbc",
   "metadata": {},
   "outputs": [
    {
     "name": "stdout",
     "output_type": "stream",
     "text": [
      "isim:İstanbul Hatırası \n",
      "(Strnin çalıştığını göstermek için yazıyom)Yazar:Ahmet Ümit\n",
      "Sayfa Sayısı:501\n",
      "Tür:Polisiye\n"
     ]
    }
   ],
   "source": [
    "print(kitap2)\n",
    "#görüldüğü üzere normal __str__ yenrine bunu tanımlamış oldum"
   ]
  },
  {
   "cell_type": "code",
   "execution_count": 33,
   "id": "b1dff3f7",
   "metadata": {},
   "outputs": [],
   "source": [
    "#Şimdi __len__ metodu tanımlayacağız\n",
    "class kitapSinifi():\n",
    "    def __init__(self,isim,yazar,sayfaSayisi,tur):\n",
    "        print(\"İnit fonksiyonu çalıştırıldı\")\n",
    "        self.isim=isim\n",
    "        self.yazar=yazar\n",
    "        self.sayfaSayisi=sayfaSayisi\n",
    "        self.tur=tur\n",
    "    def __str__(self):\n",
    "        return \"isim:{} \\n(Strnin çalıştığını göstermek için yazıyom)Yazar:{}\\nSayfa Sayısı:{}\\nTür:{}\".format(self.isim,self.yazar,self.sayfaSayisi,self.tur)\n",
    "    def __len__(self):\n",
    "        return self.sayfaSayisi"
   ]
  },
  {
   "cell_type": "code",
   "execution_count": 34,
   "id": "29c6ea40",
   "metadata": {},
   "outputs": [
    {
     "name": "stdout",
     "output_type": "stream",
     "text": [
      "İnit fonksiyonu çalıştırıldı\n"
     ]
    }
   ],
   "source": [
    "kitap2=kitapSinifi(\"İstanbul Hatırası\",\"Ahmet Ümit\",501,\"Polisiye\")"
   ]
  },
  {
   "cell_type": "code",
   "execution_count": 35,
   "id": "8f99d41a",
   "metadata": {},
   "outputs": [
    {
     "data": {
      "text/plain": [
       "501"
      ]
     },
     "execution_count": 35,
     "metadata": {},
     "output_type": "execute_result"
    }
   ],
   "source": [
    "len(kitap2)\n",
    "#görüldüğü üzere __len_ metodunu sayfa sayısına eşitleidk"
   ]
  },
  {
   "cell_type": "code",
   "execution_count": 39,
   "id": "c7ad2870",
   "metadata": {},
   "outputs": [],
   "source": [
    "#Şimdi __del__ metodunu kendimiz düzenleyeceğiz\n",
    "class kitapSinifi():\n",
    "    def __init__(self,isim,yazar,sayfaSayisi,tur):\n",
    "        print(\"İnit fonksiyonu çalıştırıldı\")\n",
    "        self.isim=isim\n",
    "        self.yazar=yazar\n",
    "        self.sayfaSayisi=sayfaSayisi\n",
    "        self.tur=tur\n",
    "    def __str__(self):\n",
    "        return \"isim:{} \\n(Strnin çalıştığını göstermek için yazıyom)Yazar:{}\\nSayfa Sayısı:{}\\nTür:{}\".format(self.isim,self.yazar,self.sayfaSayisi,self.tur)\n",
    "    def __len__(self):\n",
    "        return self.sayfaSayisi\n",
    "    def __del__(self):\n",
    "        print(\"Kitap objesi siliniyor...\")"
   ]
  },
  {
   "cell_type": "code",
   "execution_count": 41,
   "id": "95809711",
   "metadata": {},
   "outputs": [
    {
     "name": "stdout",
     "output_type": "stream",
     "text": [
      "İnit fonksiyonu çalıştırıldı\n"
     ]
    }
   ],
   "source": [
    "kitap2=kitapSinifi(\"İstanbul Hatırası\",\"Ahmet Ümit\",501,\"Polisiye\")"
   ]
  },
  {
   "cell_type": "code",
   "execution_count": 42,
   "id": "6f924382",
   "metadata": {},
   "outputs": [
    {
     "name": "stdout",
     "output_type": "stream",
     "text": [
      "Kitap objesi siliniyor...\n"
     ]
    }
   ],
   "source": [
    "del kitap2"
   ]
  },
  {
   "cell_type": "code",
   "execution_count": 44,
   "id": "8ee6dad8",
   "metadata": {},
   "outputs": [
    {
     "ename": "NameError",
     "evalue": "name 'kitap2' is not defined",
     "output_type": "error",
     "traceback": [
      "\u001b[1;31m---------------------------------------------------------------------------\u001b[0m",
      "\u001b[1;31mNameError\u001b[0m                                 Traceback (most recent call last)",
      "Cell \u001b[1;32mIn[44], line 1\u001b[0m\n\u001b[1;32m----> 1\u001b[0m \u001b[38;5;28mprint\u001b[39m(\u001b[43mkitap2\u001b[49m)\n",
      "\u001b[1;31mNameError\u001b[0m: name 'kitap2' is not defined"
     ]
    }
   ],
   "source": [
    "print(kitap2)\n",
    "#görüldüğü üzere objeyi sildik"
   ]
  },
  {
   "cell_type": "code",
   "execution_count": null,
   "id": "695a308e",
   "metadata": {},
   "outputs": [],
   "source": []
  }
 ],
 "metadata": {
  "kernelspec": {
   "display_name": "Python 3 (ipykernel)",
   "language": "python",
   "name": "python3"
  },
  "language_info": {
   "codemirror_mode": {
    "name": "ipython",
    "version": 3
   },
   "file_extension": ".py",
   "mimetype": "text/x-python",
   "name": "python",
   "nbconvert_exporter": "python",
   "pygments_lexer": "ipython3",
   "version": "3.10.9"
  }
 },
 "nbformat": 4,
 "nbformat_minor": 5
}
