{
 "cells": [
  {
   "cell_type": "code",
   "execution_count": null,
   "id": "ae9dde3f",
   "metadata": {},
   "outputs": [],
   "source": [
    "#Kendi veri tpilerimizi oluşturmak ve bu veri tiplerinden objeler üretmemiz için öcelikle objeler üreteceğimiz- \n",
    "#sınıf(class) yapısını tanımamız gerekiyor\n"
   ]
  },
  {
   "cell_type": "code",
   "execution_count": 1,
   "id": "a11c3601",
   "metadata": {},
   "outputs": [],
   "source": [
    "class Araba():\n",
    "    model = \"Wolkswagen Possat\"\n",
    "    beygirGucu = 220\n",
    "    renk = \"Siyah\"\n",
    "    silindir = 6\n",
    "# yukarıda bir araba sınıfı tanımladık daha sonrasında bu sınıf içindeki özellikler araba1 objesine geçti\n",
    "araba1 = Araba()"
   ]
  },
  {
   "cell_type": "code",
   "execution_count": 2,
   "id": "a3be07c8",
   "metadata": {},
   "outputs": [
    {
     "name": "stdout",
     "output_type": "stream",
     "text": [
      "<__main__.Araba object at 0x00000144FBE34280>\n"
     ]
    }
   ],
   "source": [
    "araba2=Araba()\n",
    "print(araba2)"
   ]
  },
  {
   "cell_type": "code",
   "execution_count": 4,
   "id": "7106dfcf",
   "metadata": {},
   "outputs": [
    {
     "name": "stdout",
     "output_type": "stream",
     "text": [
      "220\n"
     ]
    }
   ],
   "source": [
    "print(araba1.beygirGucu)\n",
    "# aynı modüllerin içinden fonksiyon kullanmak gibi buradaki araba1 in özelliklerine erişebiliyoruz"
   ]
  },
  {
   "cell_type": "code",
   "execution_count": 7,
   "id": "70cdb225",
   "metadata": {},
   "outputs": [
    {
     "name": "stdout",
     "output_type": "stream",
     "text": [
      "Wolkswagen Possat\n",
      "Wolkswagen Possat\n"
     ]
    }
   ],
   "source": [
    "print(araba2.model)\n",
    "print(araba1.model)\n",
    "#ama bu şekilde yaptığımızda farklı olarak değiştiremiyoruz iki arabaya da aynı özellikler atanıyor\n",
    "# bu sorunu da __init__ fonksiyonu ile çözeceğiz"
   ]
  },
  {
   "cell_type": "code",
   "execution_count": 10,
   "id": "a8a7de5f",
   "metadata": {},
   "outputs": [
    {
     "name": "stdout",
     "output_type": "stream",
     "text": [
      "['__class__', '__delattr__', '__dict__', '__dir__', '__doc__', '__eq__', '__format__', '__ge__', '__getattribute__', '__gt__', '__hash__', '__init__', '__init_subclass__', '__le__', '__lt__', '__module__', '__ne__', '__new__', '__reduce__', '__reduce_ex__', '__repr__', '__setattr__', '__sizeof__', '__str__', '__subclasshook__', '__weakref__', 'beygirGucu', 'model', 'renk', 'silindir']\n"
     ]
    }
   ],
   "source": [
    "print(dir(araba1))\n",
    "#aşağıdaki fonksiyonalr otomatik olarak pythondan tanımlanır"
   ]
  },
  {
   "cell_type": "code",
   "execution_count": null,
   "id": "f0532f75",
   "metadata": {},
   "outputs": [],
   "source": []
  },
  {
   "cell_type": "code",
   "execution_count": 12,
   "id": "b81939b4",
   "metadata": {},
   "outputs": [],
   "source": [
    "# __init__ fonksiyonu yapıcı(constructor) bir fonksiyondur bu metod objelerimiz oluşturulurken otomatik oalrak ilk çağrılan fonksiyondur\n"
   ]
  },
  {
   "cell_type": "code",
   "execution_count": 17,
   "id": "1ab1d9e1",
   "metadata": {},
   "outputs": [],
   "source": [
    "class Araba():\n",
    "    \n",
    "    def __init__(self,model,renk,beygirGucu,silindir):\n",
    "        print(\"İnit fonk çağrıldı\")\n",
    "        self.model=model\n",
    "        self.renk=renk\n",
    "        self.beygirGucu=beygirGucu\n",
    "        self.silindir=silindir\n"
   ]
  },
  {
   "cell_type": "code",
   "execution_count": 18,
   "id": "1f4eabab",
   "metadata": {},
   "outputs": [
    {
     "name": "stdout",
     "output_type": "stream",
     "text": [
      "İnit fonk çağrıldı\n"
     ]
    }
   ],
   "source": [
    "#init fonk ilk çağrılan fonksiyondur\n",
    "# self anahtar kelimesi ise objeyi oluşturduğumuz zaman o objeyi gösterern bir referanstır ve metodlarımızda\n",
    " #-en başta bulunması gereken bir parametredir. Yani biz bir objenin bütün özelliklerini ve metodlarını bu referans üzerinden kullanabiriliz"
   ]
  },
  {
   "cell_type": "code",
   "execution_count": 22,
   "id": "7b4baf8f",
   "metadata": {},
   "outputs": [
    {
     "name": "stdout",
     "output_type": "stream",
     "text": [
      "İnit fonk çağrıldı\n",
      "İnit fonk çağrıldı\n",
      "220\n",
      "140\n",
      "Wolkswagen Possat\n",
      "renault megane\n"
     ]
    }
   ],
   "source": [
    "araba1=Araba(\"Wolkswagen Possat\",\"Siyah\",220,6)\n",
    "araba2=Araba(\"renault megane\",\"gümüş\",140,6)\n",
    "print(araba1.beygirGucu)\n",
    "print(araba2.beygirGucu)\n",
    "#görüldüğü üzere artık özelliklerimizi ayrı ayrı tanımlayabiliyoruz\n",
    "print(araba1.model)\n",
    "print(araba2.model)"
   ]
  },
  {
   "cell_type": "code",
   "execution_count": 23,
   "id": "4f540dcf",
   "metadata": {},
   "outputs": [
    {
     "name": "stdout",
     "output_type": "stream",
     "text": [
      "İnit fonk çağrıldı\n",
      "110 Bilgi Yok Bilgi Yok 4\n"
     ]
    }
   ],
   "source": [
    "class Araba():\n",
    "    \n",
    "    def __init__(self,model=\"Bilgi Yok\",renk=\"Bilgi Yok\",beygirGucu=70,silindir=4):\n",
    "        print(\"İnit fonk çağrıldı\")\n",
    "        self.model=model\n",
    "        self.renk=renk\n",
    "        self.beygirGucu=beygirGucu\n",
    "        self.silindir=silindir\n",
    "araba3=Araba(beygirGucu=110)\n",
    "print(araba3.beygirGucu,araba3.model,araba3.renk,araba3.silindir)\n",
    "# init fonksiyonu bu şekilde kullanılabilir"
   ]
  },
  {
   "cell_type": "code",
   "execution_count": null,
   "id": "7c18b3de",
   "metadata": {},
   "outputs": [],
   "source": []
  }
 ],
 "metadata": {
  "kernelspec": {
   "display_name": "Python 3 (ipykernel)",
   "language": "python",
   "name": "python3"
  },
  "language_info": {
   "codemirror_mode": {
    "name": "ipython",
    "version": 3
   },
   "file_extension": ".py",
   "mimetype": "text/x-python",
   "name": "python",
   "nbconvert_exporter": "python",
   "pygments_lexer": "ipython3",
   "version": "3.10.9"
  }
 },
 "nbformat": 4,
 "nbformat_minor": 5
}
