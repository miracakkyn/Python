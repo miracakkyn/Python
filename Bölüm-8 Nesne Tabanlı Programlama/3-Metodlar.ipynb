{
 "cells": [
  {
   "cell_type": "code",
   "execution_count": 16,
   "id": "f2cbc7c2",
   "metadata": {},
   "outputs": [],
   "source": [
    "class Yazilimci():\n",
    "    def __init__(self,isim,soyisim,numara,maas,diller,deneyim):\n",
    "        self.isim=isim\n",
    "        self.soyisim=soyisim\n",
    "        self.numara=numara\n",
    "        self.maas=maas\n",
    "        self.diller=diller\n",
    "        self.deneyim=deneyim\n",
    "    def bilgileriGoster(self):\n",
    "        print(\"\"\"\n",
    "        Yazılımcı objesinin özellikleri\n",
    "        İsim:{}\n",
    "        \n",
    "        Soyisim:{}\n",
    "        \n",
    "        Numara:{}\n",
    "        \n",
    "        Maaş:{}\n",
    "        \n",
    "        Bildiği Yazılım Dilleri:{}\n",
    "        \n",
    "        Deneyim:{}\n",
    "        \"\"\".format(self.isim,self.soyisim,self.numara,self.maas,self.diller,self.deneyim))\n",
    "    def zamYap(self,zamMiktari):\n",
    "        print(\"Zam Yapılıyor...\")\n",
    "        self.maas+=zamMiktari\n",
    "    def dilEkle(self,yeniDil):\n",
    "        print(\"Yeni dil ekleniyor...\")\n",
    "        self.diller.append(yeniDil)\n",
    "    def deneyimEk(self,deneyimEkle):\n",
    "        print(\"Deneyim arttırılıyor...\")\n",
    "        self.deneyim+=deneyimEkle\n",
    "    \n",
    "    "
   ]
  },
  {
   "cell_type": "code",
   "execution_count": 17,
   "id": "5aaaa494",
   "metadata": {},
   "outputs": [],
   "source": [
    "yazilimci1=Yazilimci(\"Miraç\",\"Akkoyun\",12345,10000,[\"Python\",\"Php\",\"C++\"],5)"
   ]
  },
  {
   "cell_type": "code",
   "execution_count": 18,
   "id": "b823de97",
   "metadata": {},
   "outputs": [
    {
     "name": "stdout",
     "output_type": "stream",
     "text": [
      "\n",
      "        Yazılımcı objesinin özellikleri\n",
      "        İsim:Miraç\n",
      "        \n",
      "        Soyisim:Akkoyun\n",
      "        \n",
      "        Numara:12345\n",
      "        \n",
      "        Maaş:10000\n",
      "        \n",
      "        Bildiği Yazılım Dilleri:['Python', 'Php', 'C++']\n",
      "        \n",
      "        Deneyim:5\n",
      "        \n"
     ]
    }
   ],
   "source": [
    "yazilimci1.bilgileriGoster()"
   ]
  },
  {
   "cell_type": "code",
   "execution_count": 24,
   "id": "04aa3919",
   "metadata": {},
   "outputs": [
    {
     "name": "stdout",
     "output_type": "stream",
     "text": [
      "Deneyim arttırılıyor...\n",
      "\n",
      "        Yazılımcı objesinin özellikleri\n",
      "        İsim:Miraç\n",
      "        \n",
      "        Soyisim:Akkoyun\n",
      "        \n",
      "        Numara:12345\n",
      "        \n",
      "        Maaş:10000\n",
      "        \n",
      "        Bildiği Yazılım Dilleri:['Python', 'Php', 'C++', 'JavaScript', 'JavaScript', 'JavaScript']\n",
      "        \n",
      "        Deneyim:30\n",
      "        \n"
     ]
    }
   ],
   "source": [
    "yazilimci1.deneyimEk(5)\n",
    "yazilimci1.bilgileriGoster()\n",
    "\n"
   ]
  },
  {
   "cell_type": "code",
   "execution_count": 26,
   "id": "95a04575",
   "metadata": {},
   "outputs": [
    {
     "name": "stdout",
     "output_type": "stream",
     "text": [
      "Yeni dil ekleniyor...\n",
      "\n",
      "        Yazılımcı objesinin özellikleri\n",
      "        İsim:Miraç\n",
      "        \n",
      "        Soyisim:Akkoyun\n",
      "        \n",
      "        Numara:12345\n",
      "        \n",
      "        Maaş:10000\n",
      "        \n",
      "        Bildiği Yazılım Dilleri:['Python', 'Php', 'C++', 'JavaScript', 'JavaScript', 'JavaScript', 'JavaScript', 'JavaScript']\n",
      "        \n",
      "        Deneyim:30\n",
      "        \n"
     ]
    }
   ],
   "source": [
    "yazilimci1.dilEkle(\"JavaScript\")\n",
    "yazilimci1.bilgileriGoster()"
   ]
  },
  {
   "cell_type": "code",
   "execution_count": null,
   "id": "3fd032e4",
   "metadata": {},
   "outputs": [],
   "source": []
  }
 ],
 "metadata": {
  "kernelspec": {
   "display_name": "Python 3 (ipykernel)",
   "language": "python",
   "name": "python3"
  },
  "language_info": {
   "codemirror_mode": {
    "name": "ipython",
    "version": 3
   },
   "file_extension": ".py",
   "mimetype": "text/x-python",
   "name": "python",
   "nbconvert_exporter": "python",
   "pygments_lexer": "ipython3",
   "version": "3.10.9"
  }
 },
 "nbformat": 4,
 "nbformat_minor": 5
}
