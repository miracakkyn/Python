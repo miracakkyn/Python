{
 "cells": [
  {
   "cell_type": "code",
   "execution_count": 7,
   "id": "9660261c",
   "metadata": {},
   "outputs": [],
   "source": [
    "class calisanSinifi():\n",
    "    def __init__(self,isim,maas,departman):\n",
    "        print(\"Çalışan sınıfının init fonksiyon\")\n",
    "        self.isim=isim\n",
    "        self.maas=maas\n",
    "        self.departman=departman\n",
    "    def bilgileriGoster(self):\n",
    "        print(\"Çalışan sınıfının bilgileri...\")\n",
    "        \n",
    "        print(\"İsim:{}\\nMaaş:{}\\nDepartman:{}\\n\".format(self.isim,self.maas,self.departman))\n",
    "    def departmanDegistir(self,yeniDepartmanAdi):\n",
    "        self.departman=yeniDepartmanAdi\n",
    "    \n",
    "        "
   ]
  },
  {
   "cell_type": "code",
   "execution_count": 8,
   "id": "34e365c0",
   "metadata": {},
   "outputs": [],
   "source": [
    "class yonetici(calisanSinifi):\n",
    "    pass\n",
    "#Pass bloğu daha sonra tanımlayacaksak kullanır\n"
   ]
  },
  {
   "cell_type": "code",
   "execution_count": 11,
   "id": "1eedc8ec",
   "metadata": {},
   "outputs": [
    {
     "name": "stdout",
     "output_type": "stream",
     "text": [
      "Çalışan sınıfının init fonksiyon\n",
      "Çalışan sınıfının bilgileri...\n",
      "İsim:miraç Akkoyun\n",
      "Maaş:3000\n",
      "Departman:Teknoloji\n",
      "\n"
     ]
    }
   ],
   "source": [
    "yonetici1=yonetici(\"miraç Akkoyun\",3000,\"Teknoloji\")\n",
    "yonetici1.bilgileriGoster()\n",
    "#görüldüğü üzere calışansınıfı classındaki bilgileri yonetici classına direk aktardık"
   ]
  },
  {
   "cell_type": "code",
   "execution_count": 13,
   "id": "653ef78c",
   "metadata": {},
   "outputs": [
    {
     "name": "stdout",
     "output_type": "stream",
     "text": [
      "Çalışan sınıfının bilgileri...\n",
      "İsim:miraç Akkoyun\n",
      "Maaş:3000\n",
      "Departman:İnsan Kaynakları\n",
      "\n"
     ]
    }
   ],
   "source": [
    "yonetici1.departmanDegistir(\"İnsan Kaynakları\")\n",
    "yonetici1.bilgileriGoster()"
   ]
  },
  {
   "cell_type": "code",
   "execution_count": 15,
   "id": "55ebb69a",
   "metadata": {},
   "outputs": [
    {
     "data": {
      "text/plain": [
       "['__annotations__',\n",
       " '__class__',\n",
       " '__delattr__',\n",
       " '__dict__',\n",
       " '__dir__',\n",
       " '__doc__',\n",
       " '__eq__',\n",
       " '__format__',\n",
       " '__ge__',\n",
       " '__getattribute__',\n",
       " '__gt__',\n",
       " '__hash__',\n",
       " '__init__',\n",
       " '__init_subclass__',\n",
       " '__le__',\n",
       " '__lt__',\n",
       " '__module__',\n",
       " '__ne__',\n",
       " '__new__',\n",
       " '__reduce__',\n",
       " '__reduce_ex__',\n",
       " '__repr__',\n",
       " '__setattr__',\n",
       " '__sizeof__',\n",
       " '__str__',\n",
       " '__subclasshook__',\n",
       " '__weakref__',\n",
       " 'bilgileriGoster',\n",
       " 'departman',\n",
       " 'departmanDegistir',\n",
       " 'isim',\n",
       " 'maas']"
      ]
     },
     "execution_count": 15,
     "metadata": {},
     "output_type": "execute_result"
    }
   ],
   "source": [
    "dir(yonetici1)"
   ]
  },
  {
   "cell_type": "code",
   "execution_count": 17,
   "id": "031f6e8a",
   "metadata": {},
   "outputs": [],
   "source": [
    "class yonetici(calisanSinifi):\n",
    "    def zamYap(self,yeniZam):\n",
    "        self.maas+=yeniZam\n",
    "#Eğer yönetici classına eksradan fonksiyon eklemek istersek u şekilde yapabiliriz"
   ]
  },
  {
   "cell_type": "code",
   "execution_count": 20,
   "id": "4167cd66",
   "metadata": {},
   "outputs": [
    {
     "name": "stdout",
     "output_type": "stream",
     "text": [
      "Çalışan sınıfının init fonksiyon\n",
      "Çalışan sınıfının bilgileri...\n",
      "İsim:Serhat Eymen\n",
      "Maaş:3500\n",
      "Departman:Pazarlama\n",
      "\n",
      "Çalışan sınıfının bilgileri...\n",
      "İsim:Serhat Eymen\n",
      "Maaş:4000\n",
      "Departman:Pazarlama\n",
      "\n"
     ]
    }
   ],
   "source": [
    "yonetici2=yonetici(\"Serhat Eymen\",3500,\"Pazarlama\")\n",
    "yonetici2.bilgileriGoster()\n",
    "yonetici2.zamYap(500)\n",
    "yonetici2.bilgileriGoster()"
   ]
  },
  {
   "cell_type": "code",
   "execution_count": 22,
   "id": "caf90617",
   "metadata": {},
   "outputs": [
    {
     "name": "stdout",
     "output_type": "stream",
     "text": [
      "Çalışan sınıfının bilgileri...\n",
      "İsim:Serhat Eymen\n",
      "Maaş:5000\n",
      "Departman:Pazarlama\n",
      "\n"
     ]
    }
   ],
   "source": [
    "yonetici2.zamYap(500)\n",
    "yonetici2.bilgileriGoster()"
   ]
  },
  {
   "cell_type": "code",
   "execution_count": 23,
   "id": "2f44996c",
   "metadata": {},
   "outputs": [],
   "source": [
    "# Overriding(iptal etme) eğer miras aldığımız metodu kendi sınıfımızda tekrar tanımlarsak,artık metodu çağırdığımız zaman miras-\n",
    "# aldığımız metodu değil kendi metodumuz çalışacaktır. Buna nesne tabanlı programlamada overriding etmek denmektedir"
   ]
  },
  {
   "cell_type": "code",
   "execution_count": 31,
   "id": "15778eb8",
   "metadata": {},
   "outputs": [],
   "source": [
    "class calisanSinifi():\n",
    "    def __init__(self,isim,maas,departman):\n",
    "        print(\"Çalışan sınıfının init fonksiyon\")\n",
    "        self.isim=isim\n",
    "        self.maas=maas\n",
    "        self.departman=departman\n",
    "    def bilgileriGoster(self):\n",
    "        print(\"Çalışan sınıfının bilgileri...\")\n",
    "        \n",
    "        print(\"İsim:{}\\nMaaş:{}\\nDepartman:{}\\n\".format(self.isim,self.maas,self.departman))\n",
    "    def departmanDegistir(self,yeniDepartmanAdi):\n",
    "        self.departman=yeniDepartmanAdi\n",
    "    \n",
    "        "
   ]
  },
  {
   "cell_type": "code",
   "execution_count": 35,
   "id": "d9a3a052",
   "metadata": {},
   "outputs": [],
   "source": [
    "class yonetici(calisanSinifi):\n",
    "    def __init__(self,isim,maas,departman,kisiSayisi):\n",
    "        print(\"Yönetici sınıfının init fonksiyon\")\n",
    "        self.isim=isim\n",
    "        self.maas=maas\n",
    "        self.departman=departman\n",
    "        self.kisiSayisi=kisiSayisi\n",
    "    def bilgileriGoster(self):\n",
    "        print(\"Yönetici sınıfının bilgileri...\")\n",
    "        \n",
    "        print(\"İsim:{}\\nMaaş:{}\\nDepartman:{}\\nKişi Sayısı:{}\".format(self.isim,self.maas,self.departman,self.kisiSayisi))\n",
    "    def zamYap(self,yeniZam):\n",
    "        self.maas+=yeniZam\n"
   ]
  },
  {
   "cell_type": "code",
   "execution_count": 36,
   "id": "9268ca62",
   "metadata": {},
   "outputs": [],
   "source": [
    "#Yukarıda yönetici sınıfının init fonk yeniden tanımladık artık çalışan sınıfından değil yönetici sınıfında yenişden tanımladğımız \n",
    "#-init fonk kullanıcaz"
   ]
  },
  {
   "cell_type": "code",
   "execution_count": 40,
   "id": "c1c95d5f",
   "metadata": {},
   "outputs": [
    {
     "name": "stdout",
     "output_type": "stream",
     "text": [
      "Yönetici sınıfının init fonksiyon\n",
      "Çalışan sınıfının init fonksiyon\n",
      "\n",
      "Yönetici sınıfının bilgileri...\n",
      "İsim:Kerem Albayrak\n",
      "Maaş:5000\n",
      "Departman:İnsan Kaynakları\n",
      "Kişi Sayısı:32\n",
      "\n",
      "Çalışan sınıfının bilgileri...\n",
      "İsim:Ahmet Timur\n",
      "Maaş:2500\n",
      "Departman:Büro\n",
      "\n"
     ]
    }
   ],
   "source": [
    "yonetici2=yonetici(\"Kerem Albayrak\",5000,\"İnsan Kaynakları\",32)\n",
    "calisan3=calisanSinifi(\"Ahmet Timur\",2500,\"Büro\")\n",
    "print()\n",
    "yonetici2.bilgileriGoster()\n",
    "print()\n",
    "calisan3.bilgileriGoster()"
   ]
  },
  {
   "cell_type": "code",
   "execution_count": 41,
   "id": "d9527f91",
   "metadata": {},
   "outputs": [],
   "source": [
    "#Süper anahtar kelimesi özellikle override ettiğimiz bir metoodun içinde aynı zamanda miras aldığımız bir metodu kullanmak istersek kullanılabilir\n",
    "#Yani super en genel anlamıyla miras aldığımız sınfıın metodlarını alt sınıflardan kullanmamızı sağlar ör:"
   ]
  },
  {
   "cell_type": "code",
   "execution_count": 43,
   "id": "51126078",
   "metadata": {},
   "outputs": [],
   "source": [
    "class calisanSinifi():\n",
    "    def __init__(self,isim,maas,departman):\n",
    "        print(\"Çalışan sınıfının init fonksiyon\")\n",
    "        self.isim=isim\n",
    "        self.maas=maas\n",
    "        self.departman=departman\n",
    "    def bilgileriGoster(self):\n",
    "        print(\"Çalışan sınıfının bilgileri...\")\n",
    "        \n",
    "        print(\"İsim:{}\\nMaaş:{}\\nDepartman:{}\\n\".format(self.isim,self.maas,self.departman))\n",
    "    def departmanDegistir(self,yeniDepartmanAdi):\n",
    "        self.departman=yeniDepartmanAdi\n",
    "    \n",
    "        "
   ]
  },
  {
   "cell_type": "code",
   "execution_count": 44,
   "id": "49008cd9",
   "metadata": {},
   "outputs": [],
   "source": [
    "class yonetici(calisanSinifi):\n",
    "    def __init__(self,isim,maas,departman,kisiSayisi):\n",
    "        super().__init__(isim,maas,departman)\n",
    "        print(\"Yönetici sınıfının init fonksiyon\")\n",
    "        #self.isim=isim\n",
    "        #self.maas=maas\n",
    "        #self.departman=departman\n",
    "        self.kisiSayisi=kisiSayisi\n",
    "    def bilgileriGoster(self):\n",
    "        print(\"Yönetici sınıfının bilgileri...\")\n",
    "        \n",
    "        print(\"İsim:{}\\nMaaş:{}\\nDepartman:{}\\nKişi Sayısı:{}\".format(self.isim,self.maas,self.departman,self.kisiSayisi))\n",
    "    def zamYap(self,yeniZam):\n",
    "        self.maas+=yeniZam\n"
   ]
  },
  {
   "cell_type": "code",
   "execution_count": 46,
   "id": "18f71300",
   "metadata": {},
   "outputs": [
    {
     "name": "stdout",
     "output_type": "stream",
     "text": [
      "Çalışan sınıfının init fonksiyon\n",
      "Yönetici sınıfının init fonksiyon\n",
      "\n",
      "Yönetici sınıfının bilgileri...\n",
      "İsim:Ahmet Kara\n",
      "Maaş:3000\n",
      "Departman:Bilişim\n",
      "Kişi Sayısı:12\n"
     ]
    }
   ],
   "source": [
    "yonetici31=yonetici(\"Ahmet Kara\",3000,\"Bilişim\",12)\n",
    "print()\n",
    "yonetici31.bilgileriGoster()"
   ]
  },
  {
   "cell_type": "code",
   "execution_count": null,
   "id": "f269c2b8",
   "metadata": {},
   "outputs": [],
   "source": []
  }
 ],
 "metadata": {
  "kernelspec": {
   "display_name": "Python 3 (ipykernel)",
   "language": "python",
   "name": "python3"
  },
  "language_info": {
   "codemirror_mode": {
    "name": "ipython",
    "version": 3
   },
   "file_extension": ".py",
   "mimetype": "text/x-python",
   "name": "python",
   "nbconvert_exporter": "python",
   "pygments_lexer": "ipython3",
   "version": "3.10.9"
  }
 },
 "nbformat": 4,
 "nbformat_minor": 5
}
