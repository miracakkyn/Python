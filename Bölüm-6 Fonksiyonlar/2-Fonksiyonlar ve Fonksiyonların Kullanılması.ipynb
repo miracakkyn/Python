{
 "cells": [
  {
   "cell_type": "code",
   "execution_count": null,
   "id": "2682ab0a",
   "metadata": {},
   "outputs": [],
   "source": [
    "#   def fonksiyon_adı(parametre1,parametre2,...(opsiyonel)):\n",
    "#       fonksiyonbloğu\n",
    "#      yapılacak işlemler\n",
    "#      dönüş değeri (opsiyonel)"
   ]
  },
  {
   "cell_type": "code",
   "execution_count": 1,
   "id": "4565f998",
   "metadata": {},
   "outputs": [
    {
     "ename": "NameError",
     "evalue": "name 'selamla' is not defined",
     "output_type": "error",
     "traceback": [
      "\u001b[1;31m---------------------------------------------------------------------------\u001b[0m",
      "\u001b[1;31mNameError\u001b[0m                                 Traceback (most recent call last)",
      "Cell \u001b[1;32mIn[1], line 1\u001b[0m\n\u001b[1;32m----> 1\u001b[0m \u001b[38;5;28mtype\u001b[39m(\u001b[43mselamla\u001b[49m)\n",
      "\u001b[1;31mNameError\u001b[0m: name 'selamla' is not defined"
     ]
    }
   ],
   "source": [
    "type(selamla)"
   ]
  },
  {
   "cell_type": "code",
   "execution_count": 2,
   "id": "e8217854",
   "metadata": {},
   "outputs": [
    {
     "data": {
      "text/plain": [
       "function"
      ]
     },
     "execution_count": 2,
     "metadata": {},
     "output_type": "execute_result"
    }
   ],
   "source": [
    "def selamla():\n",
    "    print(\"Merhaba...\")\n",
    "    print(\"Nasılsınız?\")\n",
    "#kullanımı bu şekildedir\n",
    "type(selamla)\n"
   ]
  },
  {
   "cell_type": "code",
   "execution_count": 4,
   "id": "9440cf4a",
   "metadata": {},
   "outputs": [
    {
     "name": "stdout",
     "output_type": "stream",
     "text": [
      "Merhaba...\n",
      "Nasılsınız?\n"
     ]
    },
    {
     "ename": "TypeError",
     "evalue": "selamla() takes 0 positional arguments but 1 was given",
     "output_type": "error",
     "traceback": [
      "\u001b[1;31m---------------------------------------------------------------------------\u001b[0m",
      "\u001b[1;31mTypeError\u001b[0m                                 Traceback (most recent call last)",
      "Cell \u001b[1;32mIn[4], line 4\u001b[0m\n\u001b[0;32m      1\u001b[0m \u001b[38;5;66;03m#yukarıda tanumladık burada çaıştırıyoruz\u001b[39;00m\n\u001b[0;32m      2\u001b[0m selamla()\n\u001b[1;32m----> 4\u001b[0m \u001b[43mselamla\u001b[49m\u001b[43m(\u001b[49m\u001b[38;5;241;43m7\u001b[39;49m\u001b[43m)\u001b[49m\n",
      "\u001b[1;31mTypeError\u001b[0m: selamla() takes 0 positional arguments but 1 was given"
     ]
    }
   ],
   "source": [
    "#yukarıda tanumladık burada çaıştırıyoruz\n",
    "selamla()\n",
    "\n",
    "selamla(7)\n",
    "#eğer içine arguman tanımlamadıysak ama içine yazarsak hata verir"
   ]
  },
  {
   "cell_type": "code",
   "execution_count": 7,
   "id": "92f2e632",
   "metadata": {},
   "outputs": [],
   "source": [
    "def selamla(isim):\n",
    "    print(\"İsminiz:{}\".format(isim))\n"
   ]
  },
  {
   "cell_type": "code",
   "execution_count": 9,
   "id": "c9471126",
   "metadata": {},
   "outputs": [
    {
     "name": "stdout",
     "output_type": "stream",
     "text": [
      "İsminiz:Kemal\n",
      "İsminiz:Miraç\n"
     ]
    }
   ],
   "source": [
    "selamla(\"Kemal\")\n",
    "#gönderdiğimiz argümana göre çıktı veriyor\n",
    "selamla(\"Miraç\")"
   ]
  },
  {
   "cell_type": "code",
   "execution_count": 10,
   "id": "56faa4ca",
   "metadata": {},
   "outputs": [
    {
     "name": "stdout",
     "output_type": "stream",
     "text": [
      "Çarpımları:6000\n"
     ]
    }
   ],
   "source": [
    "def carpma(a,b,c):\n",
    "    print(\"Çarpımları:{}\".format(a*b*c))\n",
    "carpma(10,20,30)"
   ]
  },
  {
   "cell_type": "code",
   "execution_count": 14,
   "id": "1987632b",
   "metadata": {},
   "outputs": [
    {
     "name": "stdout",
     "output_type": "stream",
     "text": [
      "Faktoriyel:720\n"
     ]
    }
   ],
   "source": [
    "def faktoriyel(sayi):\n",
    "    faktoriyel=1\n",
    "    if(sayi==0 or sayi==1):\n",
    "        print(\"faktoriyel:\", faktoriyel)\n",
    "    else:\n",
    "        while(sayi>=1):\n",
    "            faktoriyel*=sayi\n",
    "            sayi-=1\n",
    "        print(\"Faktoriyel:{}\".format(faktoriyel))\n",
    "faktoriyel(6)\n",
    "            "
   ]
  },
  {
   "cell_type": "code",
   "execution_count": null,
   "id": "e809128b",
   "metadata": {},
   "outputs": [],
   "source": []
  }
 ],
 "metadata": {
  "kernelspec": {
   "display_name": "Python 3 (ipykernel)",
   "language": "python",
   "name": "python3"
  },
  "language_info": {
   "codemirror_mode": {
    "name": "ipython",
    "version": 3
   },
   "file_extension": ".py",
   "mimetype": "text/x-python",
   "name": "python",
   "nbconvert_exporter": "python",
   "pygments_lexer": "ipython3",
   "version": "3.10.9"
  }
 },
 "nbformat": 4,
 "nbformat_minor": 5
}
