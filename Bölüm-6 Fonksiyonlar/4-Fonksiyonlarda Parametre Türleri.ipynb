{
 "cells": [
  {
   "cell_type": "code",
   "execution_count": 3,
   "id": "0876c7e2",
   "metadata": {},
   "outputs": [
    {
     "ename": "TypeError",
     "evalue": "selamla() missing 1 required positional argument: 'isim'",
     "output_type": "error",
     "traceback": [
      "\u001b[1;31m---------------------------------------------------------------------------\u001b[0m",
      "\u001b[1;31mTypeError\u001b[0m                                 Traceback (most recent call last)",
      "Cell \u001b[1;32mIn[3], line 3\u001b[0m\n\u001b[0;32m      1\u001b[0m \u001b[38;5;28;01mdef\u001b[39;00m \u001b[38;5;21mselamla\u001b[39m(isim):\n\u001b[0;32m      2\u001b[0m     \u001b[38;5;28mprint\u001b[39m(\u001b[38;5;124m\"\u001b[39m\u001b[38;5;124mselam\u001b[39m\u001b[38;5;124m\"\u001b[39m,isim)\n\u001b[1;32m----> 3\u001b[0m \u001b[43mselamla\u001b[49m\u001b[43m(\u001b[49m\u001b[43m)\u001b[49m\n",
      "\u001b[1;31mTypeError\u001b[0m: selamla() missing 1 required positional argument: 'isim'"
     ]
    }
   ],
   "source": [
    "def selamla(isim):\n",
    "    print(\"selam\",isim)\n",
    "selamla()\n",
    "# normalde fonksiyonların içini boş bıraktığımızda eksik argüman hatası verir ama eğer başta bir değer tanımlarsak hata düzelir\n"
   ]
  },
  {
   "cell_type": "code",
   "execution_count": 4,
   "id": "741adc38",
   "metadata": {},
   "outputs": [
    {
     "name": "stdout",
     "output_type": "stream",
     "text": [
      "Selam serhat\n",
      "Selam İsimsiz\n"
     ]
    }
   ],
   "source": [
    "def selamla(isim=\"İsimsiz\"):\n",
    "    print(\"Selam\" , isim)\n",
    "selamla(\"serhat\")\n",
    "selamla()\n",
    "#bakınıuz\n"
   ]
  },
  {
   "cell_type": "code",
   "execution_count": 12,
   "id": "8380b24c",
   "metadata": {},
   "outputs": [
    {
     "name": "stdout",
     "output_type": "stream",
     "text": [
      "Ad: Miraç Soyadı: Akkoyun Numara: 12345\n",
      "Ad: Miraç Soyadı: Bilgi Yok Numara: Bilgi Yok\n",
      "Ad: Bilgi Yok Soyadı: Bilgi Yok Numara: 12345\n",
      "Ad: Bilgi Yok Soyadı: Akkoyun Numara: Bilgi Yok\n"
     ]
    }
   ],
   "source": [
    "def bilgilerigoster(ad,soyad,numara):\n",
    "    print(\"Ad:\",ad,\"Soyadı:\",soyad,\"Numara:\",numara)\n",
    "bilgilerigoster(\"Miraç\",\"Akkoyun\",\"12345\")\n",
    "\n",
    "def bilgilerigoster(ad=\"Bilgi Yok\" , soyad=\"Bilgi Yok\",numara=\"Bilgi Yok\"):\n",
    "    print(\"Ad:\",ad,\"Soyadı:\",soyad,\"Numara:\",numara)\n",
    "bilgilerigoster(\"Miraç\")\n",
    "bilgilerigoster(numara=\"12345\")\n",
    "bilgilerigoster(soyad=\"Akkoyun\")\n",
    "\n",
    "\n",
    "\n"
   ]
  },
  {
   "cell_type": "code",
   "execution_count": null,
   "id": "7cf19cfd",
   "metadata": {},
   "outputs": [],
   "source": []
  },
  {
   "cell_type": "code",
   "execution_count": 13,
   "id": "7f829545",
   "metadata": {},
   "outputs": [
    {
     "ename": "TypeError",
     "evalue": "toplama() takes 3 positional arguments but 4 were given",
     "output_type": "error",
     "traceback": [
      "\u001b[1;31m---------------------------------------------------------------------------\u001b[0m",
      "\u001b[1;31mTypeError\u001b[0m                                 Traceback (most recent call last)",
      "Cell \u001b[1;32mIn[13], line 4\u001b[0m\n\u001b[0;32m      2\u001b[0m \u001b[38;5;28;01mdef\u001b[39;00m \u001b[38;5;21mtoplama\u001b[39m(a,b,c):\n\u001b[0;32m      3\u001b[0m     \u001b[38;5;28;01mreturn\u001b[39;00m a\u001b[38;5;241m+\u001b[39mb\u001b[38;5;241m+\u001b[39mc\n\u001b[1;32m----> 4\u001b[0m \u001b[43mtoplama\u001b[49m\u001b[43m(\u001b[49m\u001b[38;5;241;43m1\u001b[39;49m\u001b[43m,\u001b[49m\u001b[38;5;241;43m2\u001b[39;49m\u001b[43m,\u001b[49m\u001b[38;5;241;43m3\u001b[39;49m\u001b[43m,\u001b[49m\u001b[38;5;241;43m4\u001b[39;49m\u001b[43m)\u001b[49m\n",
      "\u001b[1;31mTypeError\u001b[0m: toplama() takes 3 positional arguments but 4 were given"
     ]
    }
   ],
   "source": [
    "#ESNEK SAYILARDA DEĞERLER\n",
    "def toplama(a,b,c):\n",
    "    return a+b+c\n",
    "toplama(1,2,3,4)"
   ]
  },
  {
   "cell_type": "code",
   "execution_count": 14,
   "id": "89d751dc",
   "metadata": {},
   "outputs": [
    {
     "name": "stdout",
     "output_type": "stream",
     "text": [
      "(1, 2, 3)\n"
     ]
    }
   ],
   "source": [
    "def toplama(*a):\n",
    "    print(a)\n",
    "toplama(1,2,3)\n",
    "# başa yıldız koyduğumuz zaman fonk içindeki değerleri bir tupple a atıyor bunu istediğimiz kadar değeri toplamasını  sağlama için \n",
    "#döngü kullanıcaz çözümü aşağıda"
   ]
  },
  {
   "cell_type": "code",
   "execution_count": 18,
   "id": "5a523811",
   "metadata": {},
   "outputs": [
    {
     "name": "stdout",
     "output_type": "stream",
     "text": [
      "70\n",
      "35\n",
      "6\n"
     ]
    }
   ],
   "source": [
    "def toplama(*a):\n",
    "    toplam=0\n",
    "    for i in a:\n",
    "        toplam+=i\n",
    "    print(toplam)\n",
    "toplama(1,3,4,21,41)\n",
    "toplama(12,23)\n",
    "toplama(1,2,3)\n",
    "#önreğin"
   ]
  },
  {
   "cell_type": "code",
   "execution_count": null,
   "id": "db0b5bd7",
   "metadata": {},
   "outputs": [],
   "source": []
  }
 ],
 "metadata": {
  "kernelspec": {
   "display_name": "Python 3 (ipykernel)",
   "language": "python",
   "name": "python3"
  },
  "language_info": {
   "codemirror_mode": {
    "name": "ipython",
    "version": 3
   },
   "file_extension": ".py",
   "mimetype": "text/x-python",
   "name": "python",
   "nbconvert_exporter": "python",
   "pygments_lexer": "ipython3",
   "version": "3.10.9"
  }
 },
 "nbformat": 4,
 "nbformat_minor": 5
}
