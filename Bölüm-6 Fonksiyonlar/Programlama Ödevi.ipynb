{
 "cells": [
  {
   "cell_type": "code",
   "execution_count": 2,
   "id": "ec0b65be",
   "metadata": {},
   "outputs": [
    {
     "name": "stdout",
     "output_type": "stream",
     "text": [
      "6\n",
      "28\n",
      "496\n"
     ]
    }
   ],
   "source": [
    "#Problem 1\n",
    "#1'den 1000'e kadar olan sayılardan mükemmel sayı olanları ekrana yazdırın. \n",
    "#Bunun için bir sayının mükemmel olup olmadığını dönen bir tane fonksiyon yazın.\n",
    "\n",
    "#Bir sayının bölenlerinin toplamı kendine eşitse bu sayı mükemmel bir sayıdır. \n",
    "#Örnek olarak 6 mükemmel bir sayıdır (1 + 2 + 3 = 6).\n",
    "\n",
    "def muk(sayi):\n",
    "    toplam=0\n",
    "    for i in range(1,sayi):\n",
    "        if(sayi%i==0):\n",
    "            toplam+=i\n",
    "    if(toplam==sayi):\n",
    "        print(sayi)\n",
    "for i in range(1,1001):\n",
    "    muk(i)\n",
    "        "
   ]
  },
  {
   "cell_type": "code",
   "execution_count": 6,
   "id": "c7630bef",
   "metadata": {},
   "outputs": [
    {
     "name": "stdout",
     "output_type": "stream",
     "text": [
      "8\n",
      "27\n"
     ]
    }
   ],
   "source": [
    "#Problem 2\n",
    "#Kullanıcıdan 2 tane sayı alarak bu sayıların en büyük ortak bölenini (EBOB) dönen bir tane fonksiyon yazın.\n",
    "\n",
    "def ebob(a,b):\n",
    "    ebobi=1\n",
    "    if(a>b):\n",
    "        for i in range(2,a+1):\n",
    "            if(a%i==0 and b%i==0):\n",
    "                ebobi=i\n",
    "    else:\n",
    "        for i in range(2,b+1):\n",
    "            if(a%i==0 and b%i==0):\n",
    "                ebobi=i\n",
    "    return ebobi\n",
    "print(ebob(1304,1200))\n",
    "print(ebob(27,81))            \n"
   ]
  },
  {
   "cell_type": "code",
   "execution_count": 8,
   "id": "69db4a70",
   "metadata": {},
   "outputs": [
    {
     "name": "stdout",
     "output_type": "stream",
     "text": [
      "24\n"
     ]
    }
   ],
   "source": [
    "#Problem 3\n",
    "#Kullanıcıdan 2 tane sayı alarak bu sayıların en küçük ortak katlarını (EKOK) dönen bir tane fonksiyon yazın.\n",
    "def ekok(a,b):\n",
    "    ekoki=a*b\n",
    "    #ebob ile ekok çarpımı sayhıların çarpımına eşittir o yüzden sayıların çarpımını eboba bölüp ekonunu bulacağım\n",
    "    x=ebob(a,b)\n",
    "    ekoki/=x\n",
    "    return int(ekoki)\n",
    "print(ekok(12,8))\n",
    "            \n",
    "            \n",
    "    "
   ]
  },
  {
   "cell_type": "code",
   "execution_count": 12,
   "id": "0c9f3ceb",
   "metadata": {},
   "outputs": [
    {
     "name": "stdout",
     "output_type": "stream",
     "text": [
      "Otuz Sekiz\n",
      "Doksan Dokuz\n",
      "Yetmiş Sekiz\n",
      "Elli Dört\n"
     ]
    }
   ],
   "source": [
    "#Problem 4\n",
    "#Kullanıcıdan 2 basamaklı bir sayı alın ve bu sayının okunuşunu bulan bir fonksiyon yazın.\n",
    "\n",
    "birler =  [\"\",\"Bir\",\"İki\",\"Üç\",\"Dört\",\"Beş\",\"Altı\",\"Yedi\",\"Sekiz\",\"Dokuz\"]\n",
    "onlar = [\"\",\"On\",\"Yirmi\",\"Otuz\",\"Kırk\",\"Elli\",\"Altmış\",\"Yetmiş\",\"Seksen\",\"Doksan\"]\n",
    "\n",
    "def oku(a):\n",
    "    bir=a%10\n",
    "    on=a//10\n",
    "    return (onlar[on]+ \" \"+birler[bir])\n",
    "print(oku(38))\n",
    "print(oku(99))\n",
    "print(oku(78))\n",
    "print(oku(54))"
   ]
  },
  {
   "cell_type": "code",
   "execution_count": 28,
   "id": "c68ac653",
   "metadata": {},
   "outputs": [
    {
     "name": "stdout",
     "output_type": "stream",
     "text": [
      "[3, 4, 5]\n",
      "[5, 12, 13]\n",
      "[6, 8, 10]\n",
      "[7, 24, 25]\n",
      "[8, 15, 17]\n",
      "[9, 12, 15]\n",
      "[9, 40, 41]\n",
      "[10, 24, 26]\n",
      "[11, 60, 61]\n",
      "[12, 16, 20]\n",
      "[12, 35, 37]\n",
      "[13, 84, 85]\n",
      "[14, 48, 50]\n",
      "[15, 20, 25]\n",
      "[15, 36, 39]\n",
      "[16, 30, 34]\n",
      "[16, 63, 65]\n",
      "[18, 24, 30]\n",
      "[18, 80, 82]\n",
      "[20, 21, 29]\n",
      "[20, 48, 52]\n",
      "[20, 99, 101]\n",
      "[21, 28, 35]\n",
      "[21, 72, 75]\n",
      "[24, 32, 40]\n",
      "[24, 45, 51]\n",
      "[24, 70, 74]\n",
      "[25, 60, 65]\n",
      "[27, 36, 45]\n",
      "[28, 45, 53]\n",
      "[28, 96, 100]\n",
      "[30, 40, 50]\n",
      "[30, 72, 78]\n",
      "[32, 60, 68]\n",
      "[33, 44, 55]\n",
      "[33, 56, 65]\n",
      "[35, 84, 91]\n",
      "[36, 48, 60]\n",
      "[36, 77, 85]\n",
      "[39, 52, 65]\n",
      "[39, 80, 89]\n",
      "[40, 42, 58]\n",
      "[40, 75, 85]\n",
      "[40, 96, 104]\n",
      "[42, 56, 70]\n",
      "[45, 60, 75]\n",
      "[48, 55, 73]\n",
      "[48, 64, 80]\n",
      "[48, 90, 102]\n",
      "[51, 68, 85]\n",
      "[54, 72, 90]\n",
      "[56, 90, 106]\n",
      "[57, 76, 95]\n",
      "[60, 63, 87]\n",
      "[60, 80, 100]\n",
      "[60, 91, 109]\n",
      "[63, 84, 105]\n",
      "[65, 72, 97]\n",
      "[66, 88, 110]\n",
      "[69, 92, 115]\n",
      "[72, 96, 120]\n",
      "[75, 100, 125]\n",
      "[80, 84, 116]\n"
     ]
    }
   ],
   "source": [
    "#Problem 5\n",
    "#1'den 100'e kadar olan sayılardan pisagor üçgeni oluşturanları ekrana yazdıran bir fonksiyon yazın.(a <= 100,b <= 100)\n",
    "def pisagor():\n",
    "    liste=[]\n",
    "    for i in range(1,101):\n",
    "        for j in range(1,101):\n",
    "            x=(i**2+j**2)**0.5\n",
    "            if(x==int(x)):\n",
    "                liste2=[i,j,int(x)]\n",
    "                liste2.sort()\n",
    "                if(liste2 in liste):\n",
    "                    continue\n",
    "                liste.append(liste2)\n",
    "    return liste\n",
    "for i in pisagor():\n",
    "    print(i)"
   ]
  },
  {
   "cell_type": "code",
   "execution_count": 17,
   "id": "51ae89f2",
   "metadata": {},
   "outputs": [
    {
     "data": {
      "text/plain": [
       "5.0"
      ]
     },
     "execution_count": 17,
     "metadata": {},
     "output_type": "execute_result"
    }
   ],
   "source": [
    "5.2//1"
   ]
  },
  {
   "cell_type": "code",
   "execution_count": null,
   "id": "8d8229da",
   "metadata": {},
   "outputs": [],
   "source": []
  }
 ],
 "metadata": {
  "kernelspec": {
   "display_name": "Python 3 (ipykernel)",
   "language": "python",
   "name": "python3"
  },
  "language_info": {
   "codemirror_mode": {
    "name": "ipython",
    "version": 3
   },
   "file_extension": ".py",
   "mimetype": "text/x-python",
   "name": "python",
   "nbconvert_exporter": "python",
   "pygments_lexer": "ipython3",
   "version": "3.10.9"
  }
 },
 "nbformat": 4,
 "nbformat_minor": 5
}
