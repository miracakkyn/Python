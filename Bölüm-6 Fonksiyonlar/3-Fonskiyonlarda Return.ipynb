{
 "cells": [
  {
   "cell_type": "code",
   "execution_count": null,
   "id": "f53ccb93",
   "metadata": {},
   "outputs": [],
   "source": [
    "#Return ifadesi fonksiyonda işlem bittikten sonra çağrıldığı ere değer döndürmesi anlamı taşır"
   ]
  },
  {
   "cell_type": "code",
   "execution_count": 2,
   "id": "5fab4dce",
   "metadata": {},
   "outputs": [
    {
     "name": "stdout",
     "output_type": "stream",
     "text": [
      "6\n"
     ]
    }
   ],
   "source": [
    "def toplama(a,b,c):\n",
    "    print(a+b+c) \n",
    "toplama(1,2,3)"
   ]
  },
  {
   "cell_type": "code",
   "execution_count": 3,
   "id": "afe6b125",
   "metadata": {},
   "outputs": [
    {
     "name": "stdout",
     "output_type": "stream",
     "text": [
      "6\n"
     ]
    },
    {
     "ename": "TypeError",
     "evalue": "unsupported operand type(s) for *: 'function' and 'int'",
     "output_type": "error",
     "traceback": [
      "\u001b[1;31m---------------------------------------------------------------------------\u001b[0m",
      "\u001b[1;31mTypeError\u001b[0m                                 Traceback (most recent call last)",
      "Cell \u001b[1;32mIn[3], line 4\u001b[0m\n\u001b[0;32m      2\u001b[0m     \u001b[38;5;28mprint\u001b[39m(a\u001b[38;5;241m*\u001b[39m\u001b[38;5;241m2\u001b[39m)\n\u001b[0;32m      3\u001b[0m toplam\u001b[38;5;241m=\u001b[39m(toplama(\u001b[38;5;241m1\u001b[39m,\u001b[38;5;241m2\u001b[39m,\u001b[38;5;241m3\u001b[39m))\n\u001b[1;32m----> 4\u001b[0m \u001b[43mikiylecarp\u001b[49m\u001b[43m(\u001b[49m\u001b[43mtoplama\u001b[49m\u001b[43m)\u001b[49m\n",
      "Cell \u001b[1;32mIn[3], line 2\u001b[0m, in \u001b[0;36mikiylecarp\u001b[1;34m(a)\u001b[0m\n\u001b[0;32m      1\u001b[0m \u001b[38;5;28;01mdef\u001b[39;00m \u001b[38;5;21mikiylecarp\u001b[39m(a):\n\u001b[1;32m----> 2\u001b[0m     \u001b[38;5;28mprint\u001b[39m(\u001b[43ma\u001b[49m\u001b[38;5;241;43m*\u001b[39;49m\u001b[38;5;241;43m2\u001b[39;49m)\n",
      "\u001b[1;31mTypeError\u001b[0m: unsupported operand type(s) for *: 'function' and 'int'"
     ]
    }
   ],
   "source": [
    "def ikiylecarp(a):\n",
    "    print(a*2)\n",
    "toplam=(toplama(1,2,3))\n",
    "ikiylecarp(toplama)\n",
    "#hata almamızın sebebi toplam değişkeninin nonetype olması çünkü biz toplama fonksiyonunda sadece değer ekrana yazdırıyoruz değer atammamız için return gerekir\n",
    "#örneği aşağıda\n"
   ]
  },
  {
   "cell_type": "code",
   "execution_count": 4,
   "id": "066554dc",
   "metadata": {},
   "outputs": [
    {
     "name": "stdout",
     "output_type": "stream",
     "text": [
      "<class 'int'>\n",
      "54\n"
     ]
    }
   ],
   "source": [
    "def toplama(a,b,c):\n",
    "    return a+b+c\n",
    "toplam=toplama(1,23,3)\n",
    "print(type(toplam))\n",
    "ikiylecarp(toplam)"
   ]
  },
  {
   "cell_type": "code",
   "execution_count": 5,
   "id": "bd231eac",
   "metadata": {},
   "outputs": [
    {
     "data": {
      "text/plain": [
       "12"
      ]
     },
     "execution_count": 5,
     "metadata": {},
     "output_type": "execute_result"
    }
   ],
   "source": [
    "#return kısmından sonraki ifadeler çalışmz ör\n",
    "def toplama(a,b,c):\n",
    "    return a+b+c\n",
    "    print(\"Toplama fonksi\") #çalıştırılmadı altta kaldığı için\n",
    "toplama(3,4,5)"
   ]
  },
  {
   "cell_type": "code",
   "execution_count": null,
   "id": "1497093c",
   "metadata": {},
   "outputs": [],
   "source": [
    "# Fonksiyonlarda çağrıldığı yere herhangi bir değer döndürmeyen (return kullanmayan) fonksiyonlara void fonksiyon denir\n"
   ]
  }
 ],
 "metadata": {
  "kernelspec": {
   "display_name": "Python 3 (ipykernel)",
   "language": "python",
   "name": "python3"
  },
  "language_info": {
   "codemirror_mode": {
    "name": "ipython",
    "version": 3
   },
   "file_extension": ".py",
   "mimetype": "text/x-python",
   "name": "python",
   "nbconvert_exporter": "python",
   "pygments_lexer": "ipython3",
   "version": "3.10.9"
  }
 },
 "nbformat": 4,
 "nbformat_minor": 5
}
