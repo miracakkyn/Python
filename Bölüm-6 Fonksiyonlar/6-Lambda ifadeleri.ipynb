{
 "cells": [
  {
   "cell_type": "code",
   "execution_count": null,
   "id": "0249e738",
   "metadata": {},
   "outputs": [],
   "source": [
    "#lambda ifadeleri tek satırda fgonksiyon oluşturmamızı sağlar\n"
   ]
  },
  {
   "cell_type": "code",
   "execution_count": 1,
   "id": "15528e91",
   "metadata": {},
   "outputs": [
    {
     "name": "stdout",
     "output_type": "stream",
     "text": [
      "[2, 4, 6, 8, 10]\n"
     ]
    }
   ],
   "source": [
    "liste=[1,2,3,4,5]\n",
    "liste2=[i*2 for i in liste]\n",
    "print(liste2)"
   ]
  },
  {
   "cell_type": "code",
   "execution_count": 12,
   "id": "a3a5b297",
   "metadata": {},
   "outputs": [
    {
     "name": "stdout",
     "output_type": "stream",
     "text": [
      "8\n",
      "70\n"
     ]
    },
    {
     "data": {
      "text/plain": [
       "93"
      ]
     },
     "execution_count": 12,
     "metadata": {},
     "output_type": "execute_result"
    }
   ],
   "source": [
    "#etiket = lambda parametre1 , parametre2, ... : işlem\n",
    "def ikiylecarp(x):\n",
    "    return x*2\n",
    "print(ikiylecarp(4))\n",
    "\n",
    "#lambda ile tekrar yazıyorum\n",
    "ikiylecarp2 = lambda x: print(x*2)\n",
    "ikiylecarp2(35)\n",
    "\n",
    "ucilecarp = lambda f: f*3\n",
    "ucilecarp(31)"
   ]
  },
  {
   "cell_type": "code",
   "execution_count": 13,
   "id": "58cf15df",
   "metadata": {},
   "outputs": [
    {
     "data": {
      "text/plain": [
       "6"
      ]
     },
     "execution_count": 13,
     "metadata": {},
     "output_type": "execute_result"
    }
   ],
   "source": [
    "toplama =  lambda x,y,z :x+y+z\n",
    "toplama(1,2,3)\n"
   ]
  },
  {
   "cell_type": "code",
   "execution_count": 17,
   "id": "ad0fedbb",
   "metadata": {},
   "outputs": [
    {
     "data": {
      "text/plain": [
       "'çariM'"
      ]
     },
     "execution_count": 17,
     "metadata": {},
     "output_type": "execute_result"
    }
   ],
   "source": [
    "terscevir= lambda s: s[::-1]\n",
    "terscevir(\"Miraç\")\n"
   ]
  },
  {
   "cell_type": "code",
   "execution_count": 18,
   "id": "5ef44bd8",
   "metadata": {},
   "outputs": [
    {
     "name": "stdout",
     "output_type": "stream",
     "text": [
      "ridaK\n"
     ]
    }
   ],
   "source": [
    "k=terscevir(\"Kadir\")\n",
    "print(k)"
   ]
  },
  {
   "cell_type": "code",
   "execution_count": null,
   "id": "b5df592b",
   "metadata": {},
   "outputs": [],
   "source": [
    "print(\"{}\".f)"
   ]
  }
 ],
 "metadata": {
  "kernelspec": {
   "display_name": "Python 3 (ipykernel)",
   "language": "python",
   "name": "python3"
  },
  "language_info": {
   "codemirror_mode": {
    "name": "ipython",
    "version": 3
   },
   "file_extension": ".py",
   "mimetype": "text/x-python",
   "name": "python",
   "nbconvert_exporter": "python",
   "pygments_lexer": "ipython3",
   "version": "3.10.9"
  }
 },
 "nbformat": 4,
 "nbformat_minor": 5
}
