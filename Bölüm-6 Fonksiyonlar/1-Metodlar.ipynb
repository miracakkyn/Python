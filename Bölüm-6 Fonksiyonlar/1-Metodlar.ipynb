{
 "cells": [
  {
   "cell_type": "code",
   "execution_count": null,
   "id": "e3d5d01e",
   "metadata": {},
   "outputs": [],
   "source": [
    "#metodlar bir obje üzeinde belirli işlemleri gerçekleştiren özel fonksiyonlardır"
   ]
  },
  {
   "cell_type": "code",
   "execution_count": 2,
   "id": "9021c8ec",
   "metadata": {},
   "outputs": [
    {
     "name": "stdout",
     "output_type": "stream",
     "text": [
      "[1, 'Murat', 2, 3, 4, 5]\n"
     ]
    }
   ],
   "source": [
    "a=[1,2,3,4,5]\n",
    "type(a)\n",
    "a.insert(1,\"Murat\")\n",
    "print(a)\n",
    "#insert ile istenilen sıraya istenbilen obje eklenir"
   ]
  },
  {
   "cell_type": "code",
   "execution_count": 5,
   "id": "aa74243e",
   "metadata": {},
   "outputs": [
    {
     "name": "stdout",
     "output_type": "stream",
     "text": [
      "[1, 'Murat', 5]\n",
      "[1, 'Murat']\n"
     ]
    }
   ],
   "source": [
    "a.pop(2)\n",
    "print(a)\n",
    "#pop ile listede elemanı sileriz. içini boş bırakırsak son elamanı numara belirtirsek o elemanı siler\n",
    "a.pop()\n",
    "print(a)\n",
    "#örn boş bıraktığımızda 5 i sildi\n"
   ]
  },
  {
   "cell_type": "code",
   "execution_count": null,
   "id": "b32d58bc",
   "metadata": {},
   "outputs": [],
   "source": []
  }
 ],
 "metadata": {
  "kernelspec": {
   "display_name": "Python 3 (ipykernel)",
   "language": "python",
   "name": "python3"
  },
  "language_info": {
   "codemirror_mode": {
    "name": "ipython",
    "version": 3
   },
   "file_extension": ".py",
   "mimetype": "text/x-python",
   "name": "python",
   "nbconvert_exporter": "python",
   "pygments_lexer": "ipython3",
   "version": "3.10.9"
  }
 },
 "nbformat": 4,
 "nbformat_minor": 5
}
