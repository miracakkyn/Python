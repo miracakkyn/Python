{
 "cells": [
  {
   "cell_type": "code",
   "execution_count": 1,
   "id": "08fae247",
   "metadata": {},
   "outputs": [],
   "source": [
    "#in operatörü\n",
    "#bir elemanın içinde olup olmadığını kontrol eder"
   ]
  },
  {
   "cell_type": "code",
   "execution_count": 2,
   "id": "59a11995",
   "metadata": {},
   "outputs": [
    {
     "name": "stdout",
     "output_type": "stream",
     "text": [
      "True\n"
     ]
    }
   ],
   "source": [
    "print(4 in [1,23,4])\n",
    "print(5 in [1,2,3])"
   ]
  },
  {
   "cell_type": "code",
   "execution_count": 4,
   "id": "32bd1a96",
   "metadata": {},
   "outputs": [
    {
     "name": "stdout",
     "output_type": "stream",
     "text": [
      "True\n"
     ]
    }
   ],
   "source": [
    "print(\"p\" in \"python\")"
   ]
  },
  {
   "cell_type": "code",
   "execution_count": 5,
   "id": "a81534c8",
   "metadata": {},
   "outputs": [
    {
     "name": "stdout",
     "output_type": "stream",
     "text": [
      "True\n"
     ]
    }
   ],
   "source": [
    "print(not 4 in [1,2,3])\n",
    "#not kullanımı"
   ]
  },
  {
   "cell_type": "code",
   "execution_count": null,
   "id": "127cc511",
   "metadata": {},
   "outputs": [],
   "source": []
  },
  {
   "cell_type": "code",
   "execution_count": 6,
   "id": "c6a1bdd5",
   "metadata": {},
   "outputs": [
    {
     "name": "stdout",
     "output_type": "stream",
     "text": [
      "1\n",
      "2\n",
      "3\n",
      "4\n",
      "5\n"
     ]
    }
   ],
   "source": [
    "# For DÖngüsü\n",
    "liste=[1,2,3,4,5]\n",
    "for eleman in liste:\n",
    "    print(eleman)\n",
    "    \n",
    "#listenin içinde gezerek elemanı yazdırdı . Eleman her döngüde seferde listeden sırasıyla o eleman oluyor"
   ]
  },
  {
   "cell_type": "code",
   "execution_count": 9,
   "id": "aceaedb6",
   "metadata": {},
   "outputs": [
    {
     "name": "stdout",
     "output_type": "stream",
     "text": [
      "Toplamın güncel değeri:1\n",
      "Toplamın güncel değeri:3\n",
      "Toplamın güncel değeri:6\n",
      "Toplamın güncel değeri:10\n",
      "Toplamın güncel değeri:15\n",
      "Toplamın güncel değeri:21\n",
      "Toplamın güncel değeri:28\n"
     ]
    }
   ],
   "source": [
    "toplam=0\n",
    "liste=[1,2,3,4,5,6,7]\n",
    "for i in liste:\n",
    "    toplam+=i\n",
    "    print(\"Toplamın güncel değeri:{}\".format(toplam))    \n"
   ]
  },
  {
   "cell_type": "code",
   "execution_count": 10,
   "id": "06c92806",
   "metadata": {},
   "outputs": [
    {
     "name": "stdout",
     "output_type": "stream",
     "text": [
      "2\n",
      "4\n",
      "12\n",
      "32\n",
      "888\n",
      "12\n"
     ]
    }
   ],
   "source": [
    "#çift sayıları bulma\n",
    "liste=[1,2,3,4,15,12,41,31,23,421,5,1,32,231,888,12]\n",
    "for i in liste:\n",
    "    if(i%2==0):\n",
    "        print(i)\n",
    "        "
   ]
  },
  {
   "cell_type": "code",
   "execution_count": 12,
   "id": "df08d46b",
   "metadata": {},
   "outputs": [
    {
     "name": "stdout",
     "output_type": "stream",
     "text": [
      "1\n",
      "2\n",
      "3\n",
      "4\n",
      "5\n",
      "6\n",
      "7\n",
      "8\n",
      "i:1 , j:2\n",
      "i:3 , j:4\n",
      "i:5 , j:6\n",
      "i:7 , j:8\n"
     ]
    }
   ],
   "source": [
    "liste=[(1,2),(3,4),(5,6),(7,8)]\n",
    "for i in liste:\n",
    "    for j in i:\n",
    "        print(j)\n",
    "        \n",
    "#eğer ayrı ayrı belirtmek istersekde\n",
    "\n",
    "for i,j in liste:\n",
    "    print(\"i:{} , j:{}\".format(i,j))"
   ]
  },
  {
   "cell_type": "code",
   "execution_count": null,
   "id": "65fe5436",
   "metadata": {},
   "outputs": [],
   "source": []
  }
 ],
 "metadata": {
  "kernelspec": {
   "display_name": "Python 3 (ipykernel)",
   "language": "python",
   "name": "python3"
  },
  "language_info": {
   "codemirror_mode": {
    "name": "ipython",
    "version": 3
   },
   "file_extension": ".py",
   "mimetype": "text/x-python",
   "name": "python",
   "nbconvert_exporter": "python",
   "pygments_lexer": "ipython3",
   "version": "3.10.9"
  }
 },
 "nbformat": 4,
 "nbformat_minor": 5
}
