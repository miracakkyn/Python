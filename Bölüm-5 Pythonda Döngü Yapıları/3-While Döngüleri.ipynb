{
 "cells": [
  {
   "cell_type": "code",
   "execution_count": 2,
   "id": "66793870",
   "metadata": {},
   "outputs": [
    {
     "name": "stdout",
     "output_type": "stream",
     "text": [
      "i'nin değeri:0\n",
      "i'nin değeri:1\n",
      "i'nin değeri:2\n",
      "i'nin değeri:3\n",
      "i'nin değeri:4\n",
      "i'nin değeri:5\n",
      "i'nin değeri:6\n",
      "i'nin değeri:7\n",
      "i'nin değeri:8\n",
      "i'nin değeri:9\n"
     ]
    }
   ],
   "source": [
    "#while döngüleri bir koşul çalıştığı sürece çalışan döngülerdir\n",
    "\n",
    "i=0\n",
    "while i<10:\n",
    "    print(\"i'nin değeri:{}\".format(i))\n",
    "    i+=1"
   ]
  },
  {
   "cell_type": "code",
   "execution_count": 6,
   "id": "1d6409b0",
   "metadata": {},
   "outputs": [
    {
     "name": "stdout",
     "output_type": "stream",
     "text": [
      "0\n",
      "1\n",
      "2\n",
      "3\n",
      "4\n",
      "5\n",
      "6\n",
      "7\n",
      "8\n",
      "9\n",
      "10\n",
      "11\n"
     ]
    }
   ],
   "source": [
    "a=0\n",
    "while True:\n",
    "    print(a)\n",
    "    a+=1\n",
    "    if(a==12):\n",
    "        break\n",
    "    "
   ]
  },
  {
   "cell_type": "code",
   "execution_count": 8,
   "id": "da76d2fc",
   "metadata": {},
   "outputs": [
    {
     "name": "stdout",
     "output_type": "stream",
     "text": [
      "index:0 , liste elemanı:1\n",
      "index:1 , liste elemanı:2\n",
      "index:2 , liste elemanı:321\n",
      "index:3 , liste elemanı:4\n",
      "index:4 , liste elemanı:12\n",
      "index:5 , liste elemanı:213\n",
      "index:6 , liste elemanı:4\n"
     ]
    }
   ],
   "source": [
    "liste=[1,2,321,4,12,213,4]\n",
    "index=0\n",
    "while index<len(liste):\n",
    "    print(\"index:{} , liste elemanı:{}\".format(index,liste[index]))\n",
    "    index+=1"
   ]
  },
  {
   "cell_type": "code",
   "execution_count": null,
   "id": "24bd8fd2",
   "metadata": {},
   "outputs": [],
   "source": []
  }
 ],
 "metadata": {
  "kernelspec": {
   "display_name": "Python 3 (ipykernel)",
   "language": "python",
   "name": "python3"
  },
  "language_info": {
   "codemirror_mode": {
    "name": "ipython",
    "version": 3
   },
   "file_extension": ".py",
   "mimetype": "text/x-python",
   "name": "python",
   "nbconvert_exporter": "python",
   "pygments_lexer": "ipython3",
   "version": "3.10.9"
  }
 },
 "nbformat": 4,
 "nbformat_minor": 5
}
