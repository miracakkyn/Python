{
 "cells": [
  {
   "cell_type": "code",
   "execution_count": 1,
   "id": "54d8524e",
   "metadata": {},
   "outputs": [
    {
     "name": "stdout",
     "output_type": "stream",
     "text": [
      "[1, 2, 3]\n",
      "[1, 2, 3, 4]\n"
     ]
    }
   ],
   "source": [
    "#listeye append ile eleman ekleyebiliriz\n",
    "a=[1,2,3]\n",
    "print(a)\n",
    "a.append(4)\n",
    "print(a)"
   ]
  },
  {
   "cell_type": "code",
   "execution_count": 2,
   "id": "96e5fab2",
   "metadata": {},
   "outputs": [
    {
     "name": "stdout",
     "output_type": "stream",
     "text": [
      "[1, 2, 3, 4, 5, 6, 7, 8, 9, 10]\n"
     ]
    }
   ],
   "source": [
    "#döngüler ile bu eklemeyi kolaylıkla yapabiliriz\n",
    "for i in range(5,11):\n",
    "    a.append(i)\n",
    "print(a)"
   ]
  },
  {
   "cell_type": "code",
   "execution_count": 3,
   "id": "6c7c3853",
   "metadata": {},
   "outputs": [
    {
     "name": "stdout",
     "output_type": "stream",
     "text": [
      "[1, 2, 3, 4, 5]\n"
     ]
    }
   ],
   "source": [
    "#döngü kullanarak bbir listeyi başka bir listeye atabiliriz\n",
    "liste1=[1,2,3,4,5]\n",
    "liste2=list()\n",
    "for i in liste1:\n",
    "    liste2.append(i)\n",
    "print(liste2)"
   ]
  },
  {
   "cell_type": "code",
   "execution_count": 4,
   "id": "bf43983c",
   "metadata": {},
   "outputs": [
    {
     "name": "stdout",
     "output_type": "stream",
     "text": [
      "[1, 2, 3, 4, 5]\n"
     ]
    }
   ],
   "source": [
    "#aynı şekilde tek satırda bir listeyi başka bir listeye aktarabiliriz\n",
    "liste3=[i for i in liste2]\n",
    "print(liste3)"
   ]
  },
  {
   "cell_type": "code",
   "execution_count": 5,
   "id": "29f5b36f",
   "metadata": {},
   "outputs": [
    {
     "name": "stdout",
     "output_type": "stream",
     "text": [
      "[0, 0, 0, 0, 0, 0, 0, 0, 0, 0]\n"
     ]
    }
   ],
   "source": [
    "# örnek başka bir kullanım aşağıda sadece bir listeyi aktarmaya gerek yok\n",
    "liste4=[0 for i in range(10)]\n",
    "print(liste4)\n",
    "#yani kullanım öndeki elemanı arkadaki döngü sayısı kadar eklemeye yarıyor\n"
   ]
  },
  {
   "cell_type": "code",
   "execution_count": 6,
   "id": "711618af",
   "metadata": {},
   "outputs": [
    {
     "name": "stdout",
     "output_type": "stream",
     "text": [
      "[3, 6, 9, 12, 15]\n"
     ]
    }
   ],
   "source": [
    "liste5=[i*3 for i in liste3]\n",
    "print(liste5)"
   ]
  },
  {
   "cell_type": "code",
   "execution_count": 10,
   "id": "3d6daf55",
   "metadata": {},
   "outputs": [
    {
     "name": "stdout",
     "output_type": "stream",
     "text": [
      "[2, 12, 30]\n"
     ]
    }
   ],
   "source": [
    "liste6=[(1,2),(3,4),(5,6)]\n",
    "liste7=[i*j for i,j in liste6]\n",
    "print(liste7)\n",
    "#liste 6 daki demetteki değerlei çarparak disteye atıyor"
   ]
  },
  {
   "cell_type": "code",
   "execution_count": 11,
   "id": "ca1900f7",
   "metadata": {},
   "outputs": [
    {
     "name": "stdout",
     "output_type": "stream",
     "text": [
      "['MMM', 'iii', 'rrr', 'aaa', 'ççç']\n"
     ]
    }
   ],
   "source": [
    "s=\"Miraç\"\n",
    "liste8=[i*3 for i in s]\n",
    "print(liste8)"
   ]
  },
  {
   "cell_type": "code",
   "execution_count": 14,
   "id": "61e28b6d",
   "metadata": {},
   "outputs": [
    {
     "name": "stdout",
     "output_type": "stream",
     "text": [
      "[1, 2, 3, 4, 5, 6, 7, 43, 2421, 1242, 421, 5215, 16, 161]\n"
     ]
    }
   ],
   "source": [
    "liste9=[[1,2,3],[4,5,6,7,43,2421],[1242,421,5215,16,161]]\n",
    "#bu listedeki iç içe elemanları tek tek alarark başka bir listeye atacağız şimdi\n",
    "liste10=list()\n",
    "for i in liste9:\n",
    "    for j in i:\n",
    "        liste10.append(j)\n",
    "print(liste10)"
   ]
  },
  {
   "cell_type": "code",
   "execution_count": null,
   "id": "d5f4f929",
   "metadata": {},
   "outputs": [],
   "source": []
  }
 ],
 "metadata": {
  "kernelspec": {
   "display_name": "Python 3 (ipykernel)",
   "language": "python",
   "name": "python3"
  },
  "language_info": {
   "codemirror_mode": {
    "name": "ipython",
    "version": 3
   },
   "file_extension": ".py",
   "mimetype": "text/x-python",
   "name": "python",
   "nbconvert_exporter": "python",
   "pygments_lexer": "ipython3",
   "version": "3.10.9"
  }
 },
 "nbformat": 4,
 "nbformat_minor": 5
}
